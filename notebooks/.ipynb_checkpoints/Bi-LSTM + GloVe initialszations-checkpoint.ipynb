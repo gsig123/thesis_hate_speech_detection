{
 "cells": [
  {
   "cell_type": "code",
   "execution_count": 1,
   "metadata": {},
   "outputs": [],
   "source": [
    "# Loosly based on https://blog.keras.io/using-pre-trained-word-embeddings-in-a-keras-model.html\n",
    "\n",
    "# Approach:\n",
    "# 1) Convert all text samples in the dataset into sequences of word \n",
    "#    indices. A \"word index\" would simply be an integer ID for the word. \n",
    "#    We will only consider the top 20k most commonly occuring words in\n",
    "#    the dataset, and we'll truncate the sequences to a maximum length of\n",
    "#    1000 words.\n",
    "# 2) Prepare and \"embedding matrix\" which will contain at index i the\n",
    "#    embedding vector for the word of index i in our word index. \n",
    "# 3) Load this embedding matrix into a Keras Embedding layer, set to be \n",
    "#    frozen (its weights, the embedding vectors, will not be updated \n",
    "#    during training.)\n",
    "# 4) Build on top of ita Bi-LSTM + MLP model similar to earlier experiments."
   ]
  },
  {
   "cell_type": "code",
   "execution_count": 1,
   "metadata": {},
   "outputs": [],
   "source": [
    "import sys\n",
    "sys.path.append(\"..\")\n",
    "from src.preprocess.data_prep_offenseval import DataPrepOffensEval\n",
    "from src.classifiers.classifier_bi_lstm import BiLstmClassifier\n",
    "from src.feature_extraction.w2i import w2i\n",
    "from src.utils.stats import get_distribution_from_y\n",
    "import pandas as pd"
   ]
  },
  {
   "cell_type": "code",
   "execution_count": 2,
   "metadata": {},
   "outputs": [],
   "source": [
    "# Get the training data\n",
    "english_train_file_path = \"../data/raw/OffensEval2019/start-kit/training-v1/offenseval-training-v1.tsv\"\n",
    "dp = DataPrepOffensEval()\n",
    "result_tuple = dp.get_X_and_ys(file_path=english_train_file_path)\n",
    "X_original = result_tuple[0]\n",
    "y_sub_a = result_tuple[1]"
   ]
  },
  {
   "cell_type": "code",
   "execution_count": 3,
   "metadata": {},
   "outputs": [
    {
     "name": "stdout",
     "output_type": "stream",
     "text": [
      "['@USER She should ask a few native Americans what their take on this is.'\n",
      " '@USER @USER Go home you’re drunk!!! @USER #MAGA #Trump2020 👊🇺🇸👊 URL'\n",
      " 'Amazon is investigating Chinese employees who are selling internal data to third-party sellers looking for an edge in the competitive marketplace. URL #Amazon #MAGA #KAG #CHINA #TCOT'\n",
      " ... \"@USER And why report this garbage.  We don't give a crap.\"\n",
      " '@USER Pussy'\n",
      " '#Spanishrevenge vs. #justice #HumanRights and #FreedomOfExpression #Spain is a  #fakedemocracy @USER @USER @USER @USER @USER @USER @USER @USER @USER @USER @USER @USER @USER @USER @USER #cddr #shameonSpain #WakeupEurope @USER URL']\n"
     ]
    }
   ],
   "source": [
    "print(X_original)"
   ]
  },
  {
   "cell_type": "code",
   "execution_count": 4,
   "metadata": {},
   "outputs": [
    {
     "name": "stderr",
     "output_type": "stream",
     "text": [
      "Using TensorFlow backend.\n",
      "/Users/gudbjartursigurbergsson/PythonEnv/thesis/lib/python3.7/site-packages/keras_preprocessing/text.py:178: UserWarning: The `nb_words` argument in `Tokenizer` has been renamed `num_words`.\n",
      "  warnings.warn('The `nb_words` argument in `Tokenizer` '\n"
     ]
    },
    {
     "name": "stdout",
     "output_type": "stream",
     "text": [
      "Found 21243 unique tokens.\n",
      "[[    0     0     0 ...    19    18     3]\n",
      " [    0     0     0 ...   987  9392    16]\n",
      " [    0     0     0 ...   399   895   521]\n",
      " ...\n",
      " [    0     0     0 ...   192     5   632]\n",
      " [    0     0     0 ...     0     1  1097]\n",
      " [    0     0     0 ... 21243     1    16]]\n"
     ]
    }
   ],
   "source": [
    "# Format our text samples and labels into tensors that can be fed into \n",
    "# a NN. To do this, we will rely on Keras utilities\n",
    "\n",
    "from keras.preprocessing.text import Tokenizer\n",
    "from keras.preprocessing.sequence import pad_sequences\n",
    "MAX_NB_WORDS = 20000\n",
    "MAX_SEQ_LENGTH = 1000\n",
    "\n",
    "tokenizer = Tokenizer(nb_words=MAX_NB_WORDS)\n",
    "tokenizer.fit_on_texts(X_original)\n",
    "sequences = tokenizer.texts_to_sequences(X_original)\n",
    "\n",
    "word_index = tokenizer.word_index\n",
    "print('Found %s unique tokens.' % len(word_index))\n",
    "\n",
    "X = pad_sequences(sequences, maxlen=MAX_SEQ_LENGTH)\n",
    "print(X)\n",
    "\n",
    "X_train, X_test, y_train, y_test = dp.train_test_split(X, y_sub_a, test_size=0.2)\n",
    "X_train, X_val, y_train, y_val = dp.train_test_split(X_train, y_train, test_size=0.1)"
   ]
  },
  {
   "cell_type": "code",
   "execution_count": 5,
   "metadata": {},
   "outputs": [
    {
     "name": "stdout",
     "output_type": "stream",
     "text": [
      "Found 400000 word vectors.\n"
     ]
    }
   ],
   "source": [
    "# Prepare the embedding layer\n",
    "import os\n",
    "import numpy as np\n",
    "embeddings_index = {}\n",
    "GLOVE_DIR = \"../glove.6B/\"\n",
    "f = open(os.path.join(GLOVE_DIR, \"glove.6B.100d.txt\"))\n",
    "for line in f: \n",
    "    values = line.split()\n",
    "    word = values[0]\n",
    "    coefs = np.asarray(values[1:], dtype=\"float32\")\n",
    "    embeddings_index[word] = coefs\n",
    "f.close()\n",
    "print('Found %s word vectors.' % len(embeddings_index))"
   ]
  },
  {
   "cell_type": "code",
   "execution_count": 6,
   "metadata": {},
   "outputs": [],
   "source": [
    "EMBEDDING_DIM = 100\n",
    "embedding_matrix = np.zeros((len(word_index) + 1, EMBEDDING_DIM))\n",
    "for word, i in word_index.items():\n",
    "    embedding_vector = embeddings_index.get(word)\n",
    "    if embedding_vector is not None: \n",
    "        # words not found in embedding index will be all zeros\n",
    "        embedding_matrix[i] = embedding_vector"
   ]
  },
  {
   "cell_type": "code",
   "execution_count": 7,
   "metadata": {},
   "outputs": [],
   "source": [
    "# Create the embedding layer\n",
    "from keras.layers import Embedding \n",
    "embedding_layer = Embedding(\n",
    "    len(word_index) + 1,\n",
    "    EMBEDDING_DIM, \n",
    "    weights=[embedding_matrix],\n",
    "    input_length=MAX_SEQ_LENGTH,\n",
    "    trainable=False,\n",
    ")"
   ]
  },
  {
   "cell_type": "code",
   "execution_count": 8,
   "metadata": {},
   "outputs": [
    {
     "name": "stdout",
     "output_type": "stream",
     "text": [
      "WARNING:tensorflow:From /Users/gudbjartursigurbergsson/PythonEnv/thesis/lib/python3.7/site-packages/tensorflow/python/framework/op_def_library.py:263: colocate_with (from tensorflow.python.framework.ops) is deprecated and will be removed in a future version.\n",
      "Instructions for updating:\n",
      "Colocations handled automatically by placer.\n",
      "WARNING:tensorflow:From /Users/gudbjartursigurbergsson/PythonEnv/thesis/lib/python3.7/site-packages/keras/backend/tensorflow_backend.py:3445: calling dropout (from tensorflow.python.ops.nn_ops) with keep_prob is deprecated and will be removed in a future version.\n",
      "Instructions for updating:\n",
      "Please use `rate` instead of `keep_prob`. Rate should be set to `rate = 1 - keep_prob`.\n"
     ]
    }
   ],
   "source": [
    "# Create a model like before!\n",
    "DROPOUT_AMOUNT = 0.1\n",
    "REFULARIZATION_AMOUNT = 0.01 \n",
    "import tensorflow as tf\n",
    "import keras\n",
    "\n",
    "model = keras.Sequential()\n",
    "model.add(embedding_layer)\n",
    "model.add(keras.layers.Dropout(DROPOUT_AMOUNT))\n",
    "model.add(keras.layers.Bidirectional(\n",
    "    layer=keras.layers.LSTM(\n",
    "        units=10,\n",
    "        dropout=DROPOUT_AMOUNT,\n",
    "        recurrent_dropout=DROPOUT_AMOUNT,\n",
    "    ),\n",
    "    merge_mode=\"concat\",\n",
    "))\n",
    "model.add(keras.layers.Dropout(DROPOUT_AMOUNT))\n",
    "model.add(keras.layers.Dense(\n",
    "    units=4,\n",
    "    activation=tf.nn.relu,\n",
    "))\n",
    "model.add(keras.layers.Dropout(DROPOUT_AMOUNT))\n",
    "model.add(keras.layers.Dense(\n",
    "    units=1,\n",
    "    activation=\"sigmoid\",\n",
    "))"
   ]
  },
  {
   "cell_type": "code",
   "execution_count": 10,
   "metadata": {},
   "outputs": [],
   "source": [
    "model.compile(\n",
    "    optimizer=\"adam\",\n",
    "    loss=\"binary_crossentropy\",\n",
    "    metrics=['accuracy'],\n",
    ")"
   ]
  },
  {
   "cell_type": "code",
   "execution_count": null,
   "metadata": {},
   "outputs": [
    {
     "name": "stdout",
     "output_type": "stream",
     "text": [
      "WARNING:tensorflow:From /Users/gudbjartursigurbergsson/PythonEnv/thesis/lib/python3.7/site-packages/tensorflow/python/ops/math_ops.py:3066: to_int32 (from tensorflow.python.ops.math_ops) is deprecated and will be removed in a future version.\n",
      "Instructions for updating:\n",
      "Use tf.cast instead.\n",
      "Train on 9532 samples, validate on 1060 samples\n",
      "Epoch 1/20\n",
      " - 140s - loss: 0.6939 - acc: 0.5581 - val_loss: 0.6867 - val_acc: 0.6783\n",
      "Epoch 2/20\n",
      " - 142s - loss: 0.6847 - acc: 0.6623 - val_loss: 0.6808 - val_acc: 0.6783\n",
      "Epoch 3/20\n",
      " - 141s - loss: 0.6796 - acc: 0.6629 - val_loss: 0.6754 - val_acc: 0.6783\n",
      "Epoch 4/20\n"
     ]
    }
   ],
   "source": [
    "history = model.fit(\n",
    "    X_train, \n",
    "    y_train,\n",
    "    epochs=20, \n",
    "    batch_size=256,\n",
    "    validation_data=[X_val, y_val],\n",
    "    verbose=2,\n",
    ")"
   ]
  },
  {
   "cell_type": "code",
   "execution_count": 29,
   "metadata": {},
   "outputs": [
    {
     "data": {
      "text/plain": [
       "<matplotlib.legend.Legend at 0x15a0dac50>"
      ]
     },
     "execution_count": 29,
     "metadata": {},
     "output_type": "execute_result"
    },
    {
     "data": {
      "image/png": "[encoded data removed]",
      "text/plain": [
       "<Figure size 432x288 with 1 Axes>"
      ]
     },
     "metadata": {
      "needs_background": "light"
     },
     "output_type": "display_data"
    }
   ],
   "source": [
    "import matplotlib.pyplot as plt\n",
    "\n",
    "# Plot train/val loss \n",
    "plt.clf()\n",
    "history_dict = history.history\n",
    "train_loss = history_dict['loss']\n",
    "val_loss = history_dict['val_loss']\n",
    "epochs = range(1, len(train_loss) + 1)\n",
    "plt.plot(epochs, train_loss, 'r', label='Training Loss')\n",
    "plt.plot(epochs, val_loss, 'b', label='Validation Loss')\n",
    "plt.title('Training and Validation Loss')\n",
    "plt.xlabel('Epochs')\n",
    "plt.ylabel('Loss')\n",
    "plt.legend()"
   ]
  },
  {
   "cell_type": "code",
   "execution_count": 30,
   "metadata": {},
   "outputs": [
    {
     "data": {
      "text/plain": [
       "<matplotlib.legend.Legend at 0x14190ebe0>"
      ]
     },
     "execution_count": 30,
     "metadata": {},
     "output_type": "execute_result"
    },
    {
     "data": {
      "image/png": "[encoded data removed]",
      "text/plain": [
       "<Figure size 432x288 with 1 Axes>"
      ]
     },
     "metadata": {
      "needs_background": "light"
     },
     "output_type": "display_data"
    }
   ],
   "source": [
    "# Plot train/val acc\n",
    "plt.clf()\n",
    "history_dict = history.history\n",
    "train_metric = history_dict['acc']\n",
    "val_metric = history_dict['val_' + 'acc']\n",
    "epochs = range(1, len(train_metric) + 1)\n",
    "plt.plot(epochs, train_metric, 'r', label='Training {}'.format('acc'))\n",
    "plt.plot(epochs, val_metric, 'b', label='Validation {}'.format('acc'))\n",
    "plt.title('Training and Validation {}'.format('acc'))\n",
    "plt.xlabel('Epochs')\n",
    "plt.ylabel('{}'.format('acc'))\n",
    "plt.legend()"
   ]
  },
  {
   "cell_type": "code",
   "execution_count": 33,
   "metadata": {},
   "outputs": [],
   "source": [
    "y_pred = model.predict(X_test)\n",
    "y_pred_binary = [0 if value[0] < 0.5 else 1 for value in y_pred]"
   ]
  },
  {
   "cell_type": "code",
   "execution_count": 35,
   "metadata": {},
   "outputs": [
    {
     "name": "stderr",
     "output_type": "stream",
     "text": [
      "22/03/19 10:50:46 [INFO] Initialized Classifier: Bi-LSTM Based Model\n",
      "22/03/19 10:50:46 [INFO] LSTM Layers: 50\n",
      "22/03/19 10:50:46 [INFO] Embedding Input Dimension: 200\n",
      "22/03/19 10:50:46 [INFO] Embedding Output Dimension: 100\n",
      "22/03/19 10:50:46 [INFO] MLP Layers: 16\n",
      "22/03/19 10:50:46 [INFO] MLP Activation: <function relu at 0x13872c488>\n",
      "22/03/19 10:50:46 [INFO] Dropout 1: 0.5\n",
      "22/03/19 10:50:46 [INFO] Dropout 2: 0.5\n",
      "22/03/19 10:50:46 [INFO] Dropout 3: 0.5\n",
      "22/03/19 10:50:46 [INFO] Output Activation: <function sigmoid at 0x1387a19d8>\n",
      "22/03/19 10:50:46 [INFO] Epochs: range(1, 21)\n",
      "22/03/19 10:50:46 [INFO] Batch Size: 512\n",
      "22/03/19 10:50:46 [INFO] Optimizer: adam\n",
      "22/03/19 10:50:46 [INFO] Loss Function: binary_crossentropy\n",
      "22/03/19 10:50:46 [INFO] Metrics: ['accuracy']\n"
     ]
    },
    {
     "data": {
      "image/png": "[encoded data removed]",
      "text/plain": [
       "<Figure size 360x360 with 1 Axes>"
      ]
     },
     "metadata": {
      "needs_background": "light"
     },
     "output_type": "display_data"
    }
   ],
   "source": [
    "from src.classifiers.classifier_bi_lstm import BiLstmClassifier\n",
    "classifier = BiLstmClassifier(\n",
    "        embedding_input_dim=200,\n",
    "        logfile=None,\n",
    "        epochs=epochs,\n",
    "    )\n",
    "\n",
    "confusion_df = classifier.confusion_matrix(\n",
    "        y_test, y_pred_binary, 2, [\"NOT\", \"OFF\"])\n",
    "\n",
    "classifier.plot_confusion_matrix(\n",
    "        confusion_df, file_path=None)"
   ]
  },
  {
   "cell_type": "code",
   "execution_count": null,
   "metadata": {},
   "outputs": [],
   "source": []
  }
 ],
 "metadata": {
  "kernelspec": {
   "display_name": "thesis",
   "language": "python",
   "name": "thesis"
  },
  "language_info": {
   "codemirror_mode": {
    "name": "ipython",
    "version": 3
   },
   "file_extension": ".py",
   "mimetype": "text/x-python",
   "name": "python",
   "nbconvert_exporter": "python",
   "pygments_lexer": "ipython3",
   "version": "3.7.2"
  }
 },
 "nbformat": 4,
 "nbformat_minor": 2
}
