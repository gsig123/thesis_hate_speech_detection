{
 "cells": [
  {
   "cell_type": "code",
   "execution_count": 3,
   "metadata": {},
   "outputs": [],
   "source": [
    "import nltk"
   ]
  },
  {
   "cell_type": "code",
   "execution_count": 4,
   "metadata": {},
   "outputs": [
    {
     "name": "stdout",
     "output_type": "stream",
     "text": [
      "Original Article: In traditional grammar, a part of speech (abbreviated form: PoS or POS) is a category of words (or, more generally, of lexical items) which have similar grammatical properties.\n",
      "Tokens: ['In', 'traditional', 'grammar', ',', 'a', 'part', 'of', 'speech', '(', 'abbreviated', 'form', ':', 'PoS', 'or', 'POS', ')', 'is', 'a', 'category', 'of', 'words', '(', 'or', ',', 'more', 'generally', ',', 'of', 'lexical', 'items', ')', 'which', 'have', 'similar', 'grammatical', 'properties', '.']\n"
     ]
    }
   ],
   "source": [
    "article = \"In traditional grammar, a part of speech (abbreviated form: PoS or POS) is a category of words (or, more generally, of lexical items) which have similar grammatical properties.\"\n",
    "tokens = nltk.word_tokenize(article)\n",
    "print(\"Original Article: {}\".format(article))\n",
    "print(\"Tokens: {}\".format(tokens))"
   ]
  },
  {
   "cell_type": "code",
   "execution_count": 5,
   "metadata": {},
   "outputs": [
    {
     "name": "stdout",
     "output_type": "stream",
     "text": [
      "Word: In, POS: IN\n",
      "Word: traditional, POS: JJ\n",
      "Word: grammar, POS: NN\n",
      "Word: ,, POS: ,\n",
      "Word: a, POS: DT\n",
      "Word: part, POS: NN\n",
      "Word: of, POS: IN\n",
      "Word: speech, POS: NN\n",
      "Word: (, POS: (\n",
      "Word: abbreviated, POS: JJ\n",
      "Word: form, POS: NN\n",
      "Word: :, POS: :\n",
      "Word: PoS, POS: NN\n",
      "Word: or, POS: CC\n",
      "Word: POS, POS: NNP\n",
      "Word: ), POS: )\n",
      "Word: is, POS: VBZ\n",
      "Word: a, POS: DT\n",
      "Word: category, POS: NN\n",
      "Word: of, POS: IN\n",
      "Word: words, POS: NNS\n",
      "Word: (, POS: (\n",
      "Word: or, POS: CC\n",
      "Word: ,, POS: ,\n",
      "Word: more, POS: RBR\n",
      "Word: generally, POS: RB\n",
      "Word: ,, POS: ,\n",
      "Word: of, POS: IN\n",
      "Word: lexical, POS: JJ\n",
      "Word: items, POS: NNS\n",
      "Word: ), POS: )\n",
      "Word: which, POS: WDT\n",
      "Word: have, POS: VBP\n",
      "Word: similar, POS: JJ\n",
      "Word: grammatical, POS: JJ\n",
      "Word: properties, POS: NNS\n",
      "Word: ., POS: .\n"
     ]
    }
   ],
   "source": [
    "pos_tags = nltk.pos_tag(tokens)\n",
    "for pos_tag in pos_tags: \n",
    "    print(\"Word: {}, POS: {}\".format(pos_tag[0], pos_tag[1]))"
   ]
  },
  {
   "cell_type": "code",
   "execution_count": null,
   "metadata": {},
   "outputs": [],
   "source": []
  }
 ],
 "metadata": {
  "kernelspec": {
   "display_name": "Python 3",
   "language": "python",
   "name": "python3"
  },
  "language_info": {
   "codemirror_mode": {
    "name": "ipython",
    "version": 3
   },
   "file_extension": ".py",
   "mimetype": "text/x-python",
   "name": "python",
   "nbconvert_exporter": "python",
   "pygments_lexer": "ipython3",
   "version": "3.7.1"
  }
 },
 "nbformat": 4,
 "nbformat_minor": 2
}
