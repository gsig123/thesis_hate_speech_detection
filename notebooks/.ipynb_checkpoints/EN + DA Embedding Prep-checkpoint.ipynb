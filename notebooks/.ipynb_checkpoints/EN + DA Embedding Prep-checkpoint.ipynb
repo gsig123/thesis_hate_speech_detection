{
 "cells": [
  {
   "cell_type": "code",
   "execution_count": 2,
   "metadata": {},
   "outputs": [],
   "source": [
    "# Give us access to parent directory\n",
    "import sys\n",
    "sys.path.append(\"..\")"
   ]
  },
  {
   "cell_type": "code",
   "execution_count": 5,
   "metadata": {},
   "outputs": [],
   "source": [
    "from src.preprocess.offens_eval import get_X_and_ys\n",
    "\n",
    "DA_path = \"../data/raw/OffensEval2019_Danish/danish_1600.tsv\"\n",
    "EN_path = \"../data/raw/OffensEval2019/start-kit/training-v1/offenseval-training-v1.tsv\"\n",
    "DA_data = get_X_and_ys(DA_path)\n",
    "EN_data = get_X_and_ys(EN_path)\n",
    "X_da = DA_data[0]\n",
    "X_en = EN_data[0]"
   ]
  },
  {
   "cell_type": "code",
   "execution_count": 24,
   "metadata": {},
   "outputs": [],
   "source": [
    "from keras.preprocessing.text import Tokenizer\n",
    "MAX_NUM_WORDS = 20000\n",
    "\n",
    "da_tokenizer = Tokenizer(num_words=MAX_NUM_WORDS)\n",
    "en_tokenizer = Tokenizer(num_words=MAX_NUM_WORDS)\n",
    "\n",
    "da_tokenizer.fit_on_texts(X_da)\n",
    "en_tokenizer.fit_on_texts(X_en)\n",
    "\n",
    "da_sequences = da_tokenizer.texts_to_sequences(X_da)\n",
    "en_sequences = en_tokenizer.texts_to_sequences(X_en)\n",
    "\n",
    "da_word_index = da_tokenizer.word_index\n",
    "en_word_index = en_tokenizer.word_index\n",
    "\n",
    "en_tokens = list(en_word_index.keys())\n",
    "da_tokens = list(da_word_index.keys())"
   ]
  },
  {
   "cell_type": "code",
   "execution_count": 28,
   "metadata": {},
   "outputs": [
    {
     "name": "stdout",
     "output_type": "stream",
     "text": [
      "../data/raw/OffensEval2019/start-kit/training-v1/offenseval-training-v1.tsv\n",
      "../data/raw/OffensEval2019_Danish/danish_1600.tsv\n"
     ]
    }
   ],
   "source": [
    "# Get some info \n",
    "print(EN_path)\n",
    "print(DA_path)"
   ]
  },
  {
   "cell_type": "code",
   "execution_count": 29,
   "metadata": {},
   "outputs": [
    {
     "name": "stdout",
     "output_type": "stream",
     "text": [
      "21243\n",
      "7520\n"
     ]
    }
   ],
   "source": [
    "EN_token_path = \"../data/tokens/EN_tokens.txt\"\n",
    "DA_1600_token_path = \"../data/tokens/DA_1600_tokens.txt\"\n",
    "\n",
    "with open(EN_token_path, \"w\") as f:\n",
    "    for token in en_tokens:\n",
    "        f.write(token + \"\\n\")\n",
    "        \n",
    "with open(DA_1600_token_path, \"w\") as f:\n",
    "    for token in da_tokens:\n",
    "        f.write(token + \"\\n\")\n",
    "        \n",
    "print(len(en_tokens))\n",
    "print(len(da_tokens))"
   ]
  },
  {
   "cell_type": "code",
   "execution_count": 30,
   "metadata": {},
   "outputs": [
    {
     "ename": "ModuleNotFoundError",
     "evalue": "No module named 'pyfasttex'",
     "output_type": "error",
     "traceback": [
      "\u001b[0;31m---------------------------------------------------------------------------\u001b[0m",
      "\u001b[0;31mModuleNotFoundError\u001b[0m                       Traceback (most recent call last)",
      "\u001b[0;32m<ipython-input-30-59f4b6a88735>\u001b[0m in \u001b[0;36m<module>\u001b[0;34m\u001b[0m\n\u001b[0;32m----> 1\u001b[0;31m \u001b[0;32mfrom\u001b[0m \u001b[0mpyfasttex\u001b[0m \u001b[0;32mimport\u001b[0m \u001b[0mFastText\u001b[0m\u001b[0;34m\u001b[0m\u001b[0;34m\u001b[0m\u001b[0m\n\u001b[0m",
      "\u001b[0;31mModuleNotFoundError\u001b[0m: No module named 'pyfasttex'"
     ]
    }
   ],
   "source": [
    "from pyfasttex import FastText"
   ]
  },
  {
   "cell_type": "code",
   "execution_count": null,
   "metadata": {},
   "outputs": [],
   "source": []
  }
 ],
 "metadata": {
  "kernelspec": {
   "display_name": "thesis",
   "language": "python",
   "name": "thesis"
  },
  "language_info": {
   "codemirror_mode": {
    "name": "ipython",
    "version": 3
   },
   "file_extension": ".py",
   "mimetype": "text/x-python",
   "name": "python",
   "nbconvert_exporter": "python",
   "pygments_lexer": "ipython3",
   "version": "3.7.3"
  }
 },
 "nbformat": 4,
 "nbformat_minor": 2
}
