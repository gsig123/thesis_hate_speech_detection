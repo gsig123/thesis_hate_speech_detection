{
 "cells": [
  {
   "cell_type": "code",
   "execution_count": 19,
   "metadata": {},
   "outputs": [
    {
     "name": "stdout",
     "output_type": "stream",
     "text": [
      "[Synset('person.n.01'), Synset('male.n.02'), Synset('husband.n.01'), Synset('man.n.01'), Synset('man.n.03')]\n",
      "Synset('person.n.01')\n"
     ]
    }
   ],
   "source": [
    "# DanNet http://wordnet.dk/\n",
    "from nltk.corpus import wordnet as wn \n",
    "'dan' in wn.langs()\n",
    "# Returns a list of 'Synsets'\n",
    "# A 'synset' is a set of synonyms that share a common meaning\n",
    "synsets = wn.synsets('mand', lang='dan')\n",
    "print(synsets)\n",
    "synset = synsets[0]\n",
    "print(synset)"
   ]
  },
  {
   "cell_type": "code",
   "execution_count": null,
   "metadata": {},
   "outputs": [],
   "source": []
  },
  {
   "cell_type": "code",
   "execution_count": null,
   "metadata": {},
   "outputs": [],
   "source": []
  },
  {
   "cell_type": "code",
   "execution_count": null,
   "metadata": {},
   "outputs": [],
   "source": []
  },
  {
   "cell_type": "code",
   "execution_count": null,
   "metadata": {},
   "outputs": [],
   "source": []
  }
 ],
 "metadata": {
  "kernelspec": {
   "display_name": "thesis",
   "language": "python",
   "name": "thesis"
  },
  "language_info": {
   "codemirror_mode": {
    "name": "ipython",
    "version": 3
   },
   "file_extension": ".py",
   "mimetype": "text/x-python",
   "name": "python",
   "nbconvert_exporter": "python",
   "pygments_lexer": "ipython3",
   "version": "3.7.1"
  }
 },
 "nbformat": 4,
 "nbformat_minor": 2
}
