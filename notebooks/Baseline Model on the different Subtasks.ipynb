{
 "cells": [
  {
   "cell_type": "code",
   "execution_count": 2,
   "metadata": {},
   "outputs": [],
   "source": [
    "# Getting from the notebook dir so we can access src...\n",
    "import sys\n",
    "sys.path.append(\"..\")\n",
    "# --------------------------------------------\n",
    "from src.classifiers.classifier_baseline import BaselineClassifier as Classifier\n",
    "from src.preprocess.data_prep_baseline import DataPrepBaseline\n",
    "from sklearn.metrics import classification_report"
   ]
  },
  {
   "cell_type": "code",
   "execution_count": null,
   "metadata": {},
   "outputs": [],
   "source": []
  },
  {
   "cell_type": "code",
   "execution_count": null,
   "metadata": {},
   "outputs": [],
   "source": []
  },
  {
   "cell_type": "code",
   "execution_count": null,
   "metadata": {},
   "outputs": [],
   "source": []
  },
  {
   "cell_type": "code",
   "execution_count": 3,
   "metadata": {},
   "outputs": [],
   "source": [
    "c = Classifier(\n",
    "    class_weight_1='balanced', \n",
    "    class_weight_2='balanced', \n",
    "    class_weight_3='balanced',\n",
    "    penalty_1='l1', \n",
    "    penalty_2='l2', \n",
    "    penalty_3='l2', \n",
    "    c_1=0.01, \n",
    "    c_2=0.01,\n",
    "    c_3=0.01,\n",
    "    loss_function='squared_hinge',\n",
    "    multi_class='ovr',\n",
    ")\n",
    "\n",
    "dp = DataPrepBaseline(language='english')"
   ]
  },
  {
   "cell_type": "code",
   "execution_count": null,
   "metadata": {},
   "outputs": [],
   "source": []
  },
  {
   "cell_type": "code",
   "execution_count": null,
   "metadata": {},
   "outputs": [],
   "source": []
  },
  {
   "cell_type": "code",
   "execution_count": null,
   "metadata": {},
   "outputs": [],
   "source": []
  },
  {
   "cell_type": "code",
   "execution_count": null,
   "metadata": {},
   "outputs": [],
   "source": []
  },
  {
   "cell_type": "markdown",
   "metadata": {},
   "source": [
    "# Subtask A"
   ]
  },
  {
   "cell_type": "code",
   "execution_count": 4,
   "metadata": {},
   "outputs": [],
   "source": [
    "# Read in the start-kit training set into a pandas dataframe\n",
    "# - Note: the file path has to be an absolute path from the current file\n",
    "dataframe = dp.tsv_to_dataframe(\n",
    "    '../data/raw/OffensEval2019/start-kit/training-v1/offenseval-training-v1.tsv')"
   ]
  },
  {
   "cell_type": "code",
   "execution_count": null,
   "metadata": {},
   "outputs": [],
   "source": []
  },
  {
   "cell_type": "code",
   "execution_count": 5,
   "metadata": {},
   "outputs": [
    {
     "name": "stderr",
     "output_type": "stream",
     "text": [
      "/Users/gudbjartursigurbergsson/PythonEnv/thesis/lib/python3.7/site-packages/sklearn/feature_extraction/text.py:300: UserWarning: Your stop_words may be inconsistent with your preprocessing. Tokenizing the stop words generated tokens ['b', 'c', 'e', 'f', 'g', 'h', 'j', 'l', 'n', 'p', 'r', 'u', 'v', 'w'] not in stop_words.\n",
      "  'stop_words.' % sorted(inconsistent))\n"
     ]
    },
    {
     "name": "stdout",
     "output_type": "stream",
     "text": [
      "0        0.000000\n",
      "1        0.000000\n",
      "2        0.000000\n",
      "3        0.000000\n",
      "4        2.806102\n",
      "5        1.403051\n",
      "6        0.000000\n",
      "7        2.806102\n",
      "8        1.403051\n",
      "9        1.403051\n",
      "10       0.000000\n",
      "11       2.806102\n",
      "12       1.403051\n",
      "13       0.000000\n",
      "14       1.403051\n",
      "15       0.000000\n",
      "16       2.806102\n",
      "17       0.000000\n",
      "18       2.806102\n",
      "19       0.000000\n",
      "20       1.403051\n",
      "21       0.000000\n",
      "22       1.403051\n",
      "23       0.000000\n",
      "24       5.612204\n",
      "25       1.403051\n",
      "26       0.000000\n",
      "27       0.000000\n",
      "28       1.403051\n",
      "29       4.209153\n",
      "           ...   \n",
      "13210    0.000000\n",
      "13211    1.403051\n",
      "13212    1.403051\n",
      "13213    0.000000\n",
      "13214    4.209153\n",
      "13215    1.403051\n",
      "13216    1.403051\n",
      "13217    0.000000\n",
      "13218    0.000000\n",
      "13219    2.806102\n",
      "13220    4.209153\n",
      "13221    1.403051\n",
      "13222    7.015256\n",
      "13223    8.418307\n",
      "13224    0.000000\n",
      "13225    0.000000\n",
      "13226    0.000000\n",
      "13227    0.000000\n",
      "13228    4.209153\n",
      "13229    2.806102\n",
      "13230    7.015256\n",
      "13231    1.403051\n",
      "13232    1.403051\n",
      "13233    0.000000\n",
      "13234    0.000000\n",
      "13235    2.806102\n",
      "13236    4.209153\n",
      "13237    1.403051\n",
      "13238    0.000000\n",
      "13239    0.000000\n",
      "Name: 0, Length: 13240, dtype: float64 1 b\n"
     ]
    }
   ],
   "source": [
    "# Transform 'OFF' to 1 and 'NOT' to 0\n",
    "dataframe = dp.transform_class_column_to_ints(\n",
    "    dataframe=dataframe, \n",
    "    column_name='subtask_a',\n",
    "    mapping={'OFF': 1, 'NOT': 0},\n",
    ")\n",
    "# Extract X, y and feature names for subtask A\n",
    "X, y, feature_names = dp.get_X_y_feature_names(\n",
    "    dataset=dataframe, \n",
    "    tweet_column_name='tweet',\n",
    "    y_column_name='subtask_a',\n",
    ")\n",
    "print(X[0], y[0], feature_names[0])"
   ]
  },
  {
   "cell_type": "code",
   "execution_count": null,
   "metadata": {},
   "outputs": [],
   "source": []
  },
  {
   "cell_type": "code",
   "execution_count": 6,
   "metadata": {},
   "outputs": [
    {
     "name": "stderr",
     "output_type": "stream",
     "text": [
      "/Users/gudbjartursigurbergsson/PythonEnv/thesis/lib/python3.7/site-packages/sklearn/linear_model/logistic.py:433: FutureWarning: Default solver will be changed to 'lbfgs' in 0.22. Specify a solver to silence this warning.\n",
      "  FutureWarning)\n",
      "/Users/gudbjartursigurbergsson/PythonEnv/thesis/lib/python3.7/site-packages/sklearn/svm/base.py:931: ConvergenceWarning: Liblinear failed to converge, increase the number of iterations.\n",
      "  \"the number of iterations.\", ConvergenceWarning)\n"
     ]
    },
    {
     "name": "stdout",
     "output_type": "stream",
     "text": [
      "{'C': 0.01, 'class_weight': 'balanced', 'dual': False, 'fit_intercept': True, 'intercept_scaling': 1, 'max_iter': 100, 'multi_class': 'warn', 'n_jobs': None, 'penalty': 'l2', 'random_state': None, 'solver': 'lbfgs', 'tol': 0.0001, 'verbose': 0, 'warm_start': False}\n"
     ]
    },
    {
     "name": "stderr",
     "output_type": "stream",
     "text": [
      "/Users/gudbjartursigurbergsson/PythonEnv/thesis/lib/python3.7/site-packages/sklearn/linear_model/logistic.py:758: ConvergenceWarning: lbfgs failed to converge. Increase the number of iterations.\n",
      "  \"of iterations.\", ConvergenceWarning)\n"
     ]
    }
   ],
   "source": [
    "# Train a model on the whole training dataset\n",
    "model, X_ = c.fit(X, y)\n",
    "print(model.get_params())"
   ]
  },
  {
   "cell_type": "code",
   "execution_count": null,
   "metadata": {},
   "outputs": [],
   "source": []
  },
  {
   "cell_type": "code",
   "execution_count": null,
   "metadata": {},
   "outputs": [],
   "source": []
  },
  {
   "cell_type": "code",
   "execution_count": 6,
   "metadata": {},
   "outputs": [],
   "source": [
    "# Get Predicted y's\n",
    "y_pred = c.predict(X_, model)"
   ]
  },
  {
   "cell_type": "code",
   "execution_count": 8,
   "metadata": {},
   "outputs": [
    {
     "name": "stdout",
     "output_type": "stream",
     "text": [
      "F1: [0.78418917 0.61293385], Recall: [0.7540724  0.66022727], Precision: [0.81681167 0.57196298], Accuracy: 0.7228851963746223\n"
     ]
    }
   ],
   "source": [
    "# Calculate some metrics..\n",
    "confusion_df_sub_a = c.confusion_matrix(\n",
    "    y_true=y,\n",
    "    y_pred=y_pred,\n",
    "    num_categories=2,\n",
    "    names=['NOT', 'OFF'],\n",
    ")\n",
    "f1_score_sub_a = c.f1_score(y, y_pred)\n",
    "recall_sub_a = c.recall(y, y_pred)\n",
    "precision_sub_a = c.precision(y, y_pred)\n",
    "accuracy_sub_a = c.accuracy(y, y_pred)\n",
    "print(\"F1: {}, Recall: {}, Precision: {}, Accuracy: {}\".format(\n",
    "    f1_score_sub_a,\n",
    "    recall_sub_a, \n",
    "    precision_sub_a,\n",
    "    accuracy_sub_a,\n",
    "))"
   ]
  },
  {
   "cell_type": "code",
   "execution_count": 10,
   "metadata": {},
   "outputs": [
    {
     "name": "stdout",
     "output_type": "stream",
     "text": [
      "              precision    recall  f1-score   support\n",
      "\n",
      "           0       0.82      0.75      0.78      8840\n",
      "           1       0.57      0.66      0.61      4400\n",
      "\n",
      "   micro avg       0.72      0.72      0.72     13240\n",
      "   macro avg       0.69      0.71      0.70     13240\n",
      "weighted avg       0.74      0.72      0.73     13240\n",
      "\n"
     ]
    }
   ],
   "source": [
    "# Create and print a report\n",
    "report = classification_report(y, y_pred)\n",
    "print(report)"
   ]
  },
  {
   "cell_type": "code",
   "execution_count": 11,
   "metadata": {
    "scrolled": true
   },
   "outputs": [
    {
     "data": {
      "image/png": "[encoded data removed]",
      "text/plain": [
       "<Figure size 360x360 with 1 Axes>"
      ]
     },
     "metadata": {
      "needs_background": "light"
     },
     "output_type": "display_data"
    }
   ],
   "source": [
    "# Plot confusion matrix for subtask A\n",
    "c.plot_confusion_matrix(confusion_df_sub_a)"
   ]
  },
  {
   "cell_type": "markdown",
   "metadata": {},
   "source": [
    "# Subtask B"
   ]
  },
  {
   "cell_type": "code",
   "execution_count": 3,
   "metadata": {},
   "outputs": [
    {
     "name": "stderr",
     "output_type": "stream",
     "text": [
      "/Users/gudbjartursigurbergsson/PythonEnv/thesis/lib/python3.7/site-packages/sklearn/feature_extraction/text.py:300: UserWarning: Your stop_words may be inconsistent with your preprocessing. Tokenizing the stop words generated tokens ['b', 'c', 'e', 'f', 'g', 'h', 'j', 'l', 'n', 'p', 'r', 'u', 'v', 'w'] not in stop_words.\n",
      "  'stop_words.' % sorted(inconsistent))\n"
     ]
    },
    {
     "name": "stdout",
     "output_type": "stream",
     "text": [
      "0       0.000000\n",
      "1       0.000000\n",
      "2       0.000000\n",
      "3       1.335791\n",
      "4       0.000000\n",
      "5       2.671581\n",
      "6       1.335791\n",
      "7       1.335791\n",
      "8       0.000000\n",
      "9       1.335791\n",
      "10      1.335791\n",
      "11      0.000000\n",
      "12      1.335791\n",
      "13      4.007372\n",
      "14      1.335791\n",
      "15      1.335791\n",
      "16      0.000000\n",
      "17      2.671581\n",
      "18      0.000000\n",
      "19      0.000000\n",
      "20      1.335791\n",
      "21      0.000000\n",
      "22      1.335791\n",
      "23      2.671581\n",
      "24      1.335791\n",
      "25      1.335791\n",
      "26      1.335791\n",
      "27      0.000000\n",
      "28      1.335791\n",
      "29      1.335791\n",
      "          ...   \n",
      "4370    2.671581\n",
      "4371    1.335791\n",
      "4372    4.007372\n",
      "4373    4.007372\n",
      "4374    1.335791\n",
      "4375    2.671581\n",
      "4376    1.335791\n",
      "4377    2.671581\n",
      "4378    2.671581\n",
      "4379    1.335791\n",
      "4380    2.671581\n",
      "4381    4.007372\n",
      "4382    1.335791\n",
      "4383    5.343163\n",
      "4384    1.335791\n",
      "4385    5.343163\n",
      "4386    1.335791\n",
      "4387    1.335791\n",
      "4388    1.335791\n",
      "4389    1.335791\n",
      "4390    1.335791\n",
      "4391    0.000000\n",
      "4392    4.007372\n",
      "4393    1.335791\n",
      "4394    0.000000\n",
      "4395    8.014744\n",
      "4396    0.000000\n",
      "4397    2.671581\n",
      "4398    1.335791\n",
      "4399    0.000000\n",
      "Name: 0, Length: 4400, dtype: float64 0 b\n"
     ]
    }
   ],
   "source": [
    "# Read in the start-kit training set into a pandas dataframe\n",
    "# - Note: the file path has to be an absolute path from the current file\n",
    "dataframe = dp.tsv_to_dataframe(\n",
    "    '../data/raw/OffensEval2019/start-kit/training-v1/offenseval-training-v1.tsv')\n",
    "# Drop NULL Rows (where subtask_a categorized as 'NOT')\n",
    "dataframe = dp.remove_rows_where_column_is_NULL(dataframe=dataframe, column_name='subtask_b')\n",
    "# # Transform 'UNT' to 0, and 'TIN' to 1\n",
    "dataframe = dp.transform_class_column_to_ints(\n",
    "    dataframe=dataframe, \n",
    "    column_name='subtask_b',\n",
    "    mapping={'UNT': 0, 'TIN': 1},\n",
    ")\n",
    "\n",
    "# # Extract X, y and feature names for subtask B\n",
    "X, y, feature_names = dp.get_X_y_feature_names(\n",
    "    dataset=dataframe, \n",
    "    tweet_column_name='tweet',\n",
    "    y_column_name='subtask_b',\n",
    ")\n",
    "print(X[0], y[0], feature_names[0])"
   ]
  },
  {
   "cell_type": "code",
   "execution_count": 4,
   "metadata": {},
   "outputs": [
    {
     "name": "stderr",
     "output_type": "stream",
     "text": [
      "/Users/gudbjartursigurbergsson/PythonEnv/thesis/lib/python3.7/site-packages/sklearn/linear_model/logistic.py:433: FutureWarning: Default solver will be changed to 'lbfgs' in 0.22. Specify a solver to silence this warning.\n",
      "  FutureWarning)\n",
      "/Users/gudbjartursigurbergsson/PythonEnv/thesis/lib/python3.7/site-packages/sklearn/svm/base.py:931: ConvergenceWarning: Liblinear failed to converge, increase the number of iterations.\n",
      "  \"the number of iterations.\", ConvergenceWarning)\n",
      "/Users/gudbjartursigurbergsson/PythonEnv/thesis/lib/python3.7/site-packages/sklearn/linear_model/logistic.py:758: ConvergenceWarning: lbfgs failed to converge. Increase the number of iterations.\n",
      "  \"of iterations.\", ConvergenceWarning)\n"
     ]
    }
   ],
   "source": [
    "# Train a model on the whole training dataset\n",
    "model, X_ = c.fit(X, y)"
   ]
  },
  {
   "cell_type": "code",
   "execution_count": 5,
   "metadata": {},
   "outputs": [],
   "source": [
    "# Get Predicted y's\n",
    "y_pred = c.predict(X_, model)"
   ]
  },
  {
   "cell_type": "code",
   "execution_count": 6,
   "metadata": {},
   "outputs": [
    {
     "name": "stdout",
     "output_type": "stream",
     "text": [
      "F1: [0.31406314 0.73699104], Recall: [0.73091603 0.60474716], Precision: [0.2        0.94325956], Accuracy: 0.6197727272727273\n"
     ]
    }
   ],
   "source": [
    "# Calculate some metrics..\n",
    "confusion_df_sub_b = c.confusion_matrix(\n",
    "    y_true=y,\n",
    "    y_pred=y_pred,\n",
    "    num_categories=2,\n",
    "    names=['UNT', 'TIN'],\n",
    ")\n",
    "f1_score_sub_b = c.f1_score(y, y_pred)\n",
    "recall_sub_b = c.recall(y, y_pred)\n",
    "precision_sub_b = c.precision(y, y_pred)\n",
    "accuracy_sub_b = c.accuracy(y, y_pred)\n",
    "print(\"F1: {}, Recall: {}, Precision: {}, Accuracy: {}\".format(\n",
    "    f1_score_sub_b,\n",
    "    recall_sub_b, \n",
    "    precision_sub_b,\n",
    "    accuracy_sub_b,\n",
    "))"
   ]
  },
  {
   "cell_type": "code",
   "execution_count": 7,
   "metadata": {},
   "outputs": [
    {
     "name": "stdout",
     "output_type": "stream",
     "text": [
      "              precision    recall  f1-score   support\n",
      "\n",
      "           0       0.20      0.73      0.31       524\n",
      "           1       0.94      0.60      0.74      3876\n",
      "\n",
      "   micro avg       0.62      0.62      0.62      4400\n",
      "   macro avg       0.57      0.67      0.53      4400\n",
      "weighted avg       0.85      0.62      0.69      4400\n",
      "\n"
     ]
    }
   ],
   "source": [
    "# Create and print a report\n",
    "report = classification_report(y, y_pred)\n",
    "print(report)"
   ]
  },
  {
   "cell_type": "code",
   "execution_count": 8,
   "metadata": {
    "scrolled": true
   },
   "outputs": [
    {
     "data": {
      "image/png": "[encoded data removed]",
      "text/plain": [
       "<Figure size 360x360 with 1 Axes>"
      ]
     },
     "metadata": {
      "needs_background": "light"
     },
     "output_type": "display_data"
    }
   ],
   "source": [
    "# Plot confusion matrix for subtask B\n",
    "c.plot_confusion_matrix(confusion_df_sub_b)"
   ]
  },
  {
   "cell_type": "markdown",
   "metadata": {},
   "source": [
    "# Subtask C"
   ]
  },
  {
   "cell_type": "code",
   "execution_count": 4,
   "metadata": {},
   "outputs": [
    {
     "name": "stderr",
     "output_type": "stream",
     "text": [
      "/Users/gudbjartursigurbergsson/PythonEnv/thesis/lib/python3.7/site-packages/sklearn/feature_extraction/text.py:300: UserWarning: Your stop_words may be inconsistent with your preprocessing. Tokenizing the stop words generated tokens ['b', 'c', 'e', 'f', 'g', 'h', 'j', 'l', 'n', 'p', 'r', 'u', 'v', 'w'] not in stop_words.\n",
      "  'stop_words.' % sorted(inconsistent))\n"
     ]
    },
    {
     "ename": "KeyError",
     "evalue": "0",
     "output_type": "error",
     "traceback": [
      "\u001b[0;31m---------------------------------------------------------------------------\u001b[0m",
      "\u001b[0;31mKeyError\u001b[0m                                  Traceback (most recent call last)",
      "\u001b[0;32m<ipython-input-4-87a665383490>\u001b[0m in \u001b[0;36m<module>\u001b[0;34m\u001b[0m\n\u001b[1;32m     16\u001b[0m     \u001b[0my_column_name\u001b[0m\u001b[0;34m=\u001b[0m\u001b[0;34m'subtask_c'\u001b[0m\u001b[0;34m,\u001b[0m\u001b[0;34m\u001b[0m\u001b[0;34m\u001b[0m\u001b[0m\n\u001b[1;32m     17\u001b[0m )\n\u001b[0;32m---> 18\u001b[0;31m \u001b[0mprint\u001b[0m\u001b[0;34m(\u001b[0m\u001b[0mX\u001b[0m\u001b[0;34m[\u001b[0m\u001b[0;36m0\u001b[0m\u001b[0;34m]\u001b[0m\u001b[0;34m,\u001b[0m \u001b[0my\u001b[0m\u001b[0;34m[\u001b[0m\u001b[0;36m0\u001b[0m\u001b[0;34m]\u001b[0m\u001b[0;34m,\u001b[0m \u001b[0mfeature_names\u001b[0m\u001b[0;34m[\u001b[0m\u001b[0;36m0\u001b[0m\u001b[0;34m]\u001b[0m\u001b[0;34m)\u001b[0m\u001b[0;34m\u001b[0m\u001b[0;34m\u001b[0m\u001b[0m\n\u001b[0m",
      "\u001b[0;32m~/PythonEnv/thesis/lib/python3.7/site-packages/pandas/core/series.py\u001b[0m in \u001b[0;36m__getitem__\u001b[0;34m(self, key)\u001b[0m\n\u001b[1;32m    866\u001b[0m         \u001b[0mkey\u001b[0m \u001b[0;34m=\u001b[0m \u001b[0mcom\u001b[0m\u001b[0;34m.\u001b[0m\u001b[0mapply_if_callable\u001b[0m\u001b[0;34m(\u001b[0m\u001b[0mkey\u001b[0m\u001b[0;34m,\u001b[0m \u001b[0mself\u001b[0m\u001b[0;34m)\u001b[0m\u001b[0;34m\u001b[0m\u001b[0;34m\u001b[0m\u001b[0m\n\u001b[1;32m    867\u001b[0m         \u001b[0;32mtry\u001b[0m\u001b[0;34m:\u001b[0m\u001b[0;34m\u001b[0m\u001b[0;34m\u001b[0m\u001b[0m\n\u001b[0;32m--> 868\u001b[0;31m             \u001b[0mresult\u001b[0m \u001b[0;34m=\u001b[0m \u001b[0mself\u001b[0m\u001b[0;34m.\u001b[0m\u001b[0mindex\u001b[0m\u001b[0;34m.\u001b[0m\u001b[0mget_value\u001b[0m\u001b[0;34m(\u001b[0m\u001b[0mself\u001b[0m\u001b[0;34m,\u001b[0m \u001b[0mkey\u001b[0m\u001b[0;34m)\u001b[0m\u001b[0;34m\u001b[0m\u001b[0;34m\u001b[0m\u001b[0m\n\u001b[0m\u001b[1;32m    869\u001b[0m \u001b[0;34m\u001b[0m\u001b[0m\n\u001b[1;32m    870\u001b[0m             \u001b[0;32mif\u001b[0m \u001b[0;32mnot\u001b[0m \u001b[0mis_scalar\u001b[0m\u001b[0;34m(\u001b[0m\u001b[0mresult\u001b[0m\u001b[0;34m)\u001b[0m\u001b[0;34m:\u001b[0m\u001b[0;34m\u001b[0m\u001b[0;34m\u001b[0m\u001b[0m\n",
      "\u001b[0;32m~/PythonEnv/thesis/lib/python3.7/site-packages/pandas/core/indexes/base.py\u001b[0m in \u001b[0;36mget_value\u001b[0;34m(self, series, key)\u001b[0m\n\u001b[1;32m   4372\u001b[0m         \u001b[0;32mtry\u001b[0m\u001b[0;34m:\u001b[0m\u001b[0;34m\u001b[0m\u001b[0;34m\u001b[0m\u001b[0m\n\u001b[1;32m   4373\u001b[0m             return self._engine.get_value(s, k,\n\u001b[0;32m-> 4374\u001b[0;31m                                           tz=getattr(series.dtype, 'tz', None))\n\u001b[0m\u001b[1;32m   4375\u001b[0m         \u001b[0;32mexcept\u001b[0m \u001b[0mKeyError\u001b[0m \u001b[0;32mas\u001b[0m \u001b[0me1\u001b[0m\u001b[0;34m:\u001b[0m\u001b[0;34m\u001b[0m\u001b[0;34m\u001b[0m\u001b[0m\n\u001b[1;32m   4376\u001b[0m             \u001b[0;32mif\u001b[0m \u001b[0mlen\u001b[0m\u001b[0;34m(\u001b[0m\u001b[0mself\u001b[0m\u001b[0;34m)\u001b[0m \u001b[0;34m>\u001b[0m \u001b[0;36m0\u001b[0m \u001b[0;32mand\u001b[0m \u001b[0;34m(\u001b[0m\u001b[0mself\u001b[0m\u001b[0;34m.\u001b[0m\u001b[0mholds_integer\u001b[0m\u001b[0;34m(\u001b[0m\u001b[0;34m)\u001b[0m \u001b[0;32mor\u001b[0m \u001b[0mself\u001b[0m\u001b[0;34m.\u001b[0m\u001b[0mis_boolean\u001b[0m\u001b[0;34m(\u001b[0m\u001b[0;34m)\u001b[0m\u001b[0;34m)\u001b[0m\u001b[0;34m:\u001b[0m\u001b[0;34m\u001b[0m\u001b[0;34m\u001b[0m\u001b[0m\n",
      "\u001b[0;32mpandas/_libs/index.pyx\u001b[0m in \u001b[0;36mpandas._libs.index.IndexEngine.get_value\u001b[0;34m()\u001b[0m\n",
      "\u001b[0;32mpandas/_libs/index.pyx\u001b[0m in \u001b[0;36mpandas._libs.index.IndexEngine.get_value\u001b[0;34m()\u001b[0m\n",
      "\u001b[0;32mpandas/_libs/index.pyx\u001b[0m in \u001b[0;36mpandas._libs.index.IndexEngine.get_loc\u001b[0;34m()\u001b[0m\n",
      "\u001b[0;32mpandas/_libs/hashtable_class_helper.pxi\u001b[0m in \u001b[0;36mpandas._libs.hashtable.Int64HashTable.get_item\u001b[0;34m()\u001b[0m\n",
      "\u001b[0;32mpandas/_libs/hashtable_class_helper.pxi\u001b[0m in \u001b[0;36mpandas._libs.hashtable.Int64HashTable.get_item\u001b[0;34m()\u001b[0m\n",
      "\u001b[0;31mKeyError\u001b[0m: 0"
     ]
    }
   ],
   "source": [
    "# Read in the start-kit training set into a pandas dataframe\n",
    "# - Note: the file path has to be an absolute path from the current file\n",
    "dataframe = dp.tsv_to_dataframe(\n",
    "    '../data/raw/OffensEval2019/start-kit/training-v1/offenseval-training-v1.tsv')\n",
    "# Drop NULL Rows (where subtask_a categorized as 'NOT')\n",
    "dataframe = dp.remove_rows_where_column_is_NULL(dataframe=dataframe, column_name='subtask_c')\n",
    "dataframe = dp.transform_class_column_to_ints(\n",
    "    dataframe=dataframe, \n",
    "    column_name='subtask_c',\n",
    "    mapping={'IND': 0, 'GRP': 1, 'OTH': 2},\n",
    ")\n",
    "# # Extract X, y and feature names for subtask C\n",
    "X, y, feature_names = dp.get_X_y_feature_names(\n",
    "    dataset=dataframe, \n",
    "    tweet_column_name='tweet',\n",
    "    y_column_name='subtask_c',\n",
    ")\n",
    "print(X[0], y[0], feature_names[0])"
   ]
  },
  {
   "cell_type": "code",
   "execution_count": 7,
   "metadata": {},
   "outputs": [
    {
     "name": "stdout",
     "output_type": "stream",
     "text": [
      "['b', 'b b', 'b b c', 'b b e', 'b b h', 'b b l', 'b b n', 'b b u', 'b b w', 'b c', 'b c c', 'b c e', 'b c h', 'b c k', 'b c l', 'b c n', 'b c r', 'b c u', 'b c w', 'b e', 'b e b', 'b e c', 'b e e', 'b e f', 'b e g', 'b e h', 'b e k', 'b e l', 'b e n', 'b e p', 'b e r', 'b e u', 'b e v', 'b e w', 'b f', 'b f e', 'b f h', 'b f r', 'b f u', 'b g', 'b g b', 'b g c', 'b g e', 'b g f', 'b g g', 'b g h', 'b g l', 'b g n', 'b g r', 'b g u', 'b g v', 'b g w', 'b h', 'b h c', 'b h e', 'b h g', 'b h h', 'b h l', 'b h n', 'b h p', 'b h r', 'b h u', 'b h v', 'b h w', 'b j', 'b j e', 'b k', 'b k b', 'b k e', 'b k h', 'b k n', 'b k r', 'b l', 'b l b', 'b l c', 'b l e', 'b l f', 'b l g', 'b l h', 'b l k', 'b l l', 'b l n', 'b l p', 'b l r', 'b l u', 'b l w', 'b n', 'b n b', 'b n c', 'b n e', 'b n f', 'b n g', 'b n h', 'b n k', 'b n l', 'b n n', 'b n p', 'b n r', 'b n u', 'b n w', 'b p', 'b p e', 'b p l', 'b p p', 'b p r', 'b r', 'b r b', 'b r c', 'b r e', 'b r f', 'b r g', 'b r h', 'b r k', 'b r l', 'b r n', 'b r p', 'b r r', 'b r u', 'b r v', 'b r w', 'b u', 'b u b', 'b u c', 'b u e', 'b u f', 'b u g', 'b u h', 'b u j', 'b u k', 'b u l', 'b u n', 'b u p', 'b u r', 'b u u', 'b u v', 'b u w', 'b v', 'b v e', 'b v u', 'b w', 'b w e', 'b w h', 'b w l', 'b w n', 'b x', 'c b', 'c b c', 'c b e', 'c b l', 'c b r', 'c b u', 'c c', 'c c b', 'c c c', 'c c e', 'c c f', 'c c h', 'c c k', 'c c l', 'c c n', 'c c p', 'c c r', 'c c u', 'c e', 'c e b', 'c e c', 'c e e', 'c e f', 'c e g', 'c e h', 'c e j', 'c e k', 'c e l', 'c e n', 'c e p', 'c e r', 'c e u', 'c e v', 'c e w', 'c e x', 'c f', 'c f c', 'c f e', 'c f f', 'c f g', 'c f h', 'c f l', 'c f r', 'c f u', 'c g', 'c g e', 'c g h', 'c g k', 'c g l', 'c g n', 'c g r', 'c g u', 'c g w', 'c h', 'c h b', 'c h c', 'c h e', 'c h f', 'c h g', 'c h h', 'c h j', 'c h k', 'c h l', 'c h n', 'c h p', 'c h r', 'c h u', 'c h v', 'c h w', 'c j', 'c j u', 'c k', 'c k b', 'c k c', 'c k e', 'c k f', 'c k g', 'c k h', 'c k j', 'c k k', 'c k l', 'c k n', 'c k p', 'c k r', 'c k u', 'c k w', 'c l', 'c l b', 'c l c', 'c l e', 'c l f', 'c l g', 'c l h', 'c l k', 'c l l', 'c l n', 'c l p', 'c l r', 'c l u', 'c l v', 'c l w', 'c n', 'c n b', 'c n c', 'c n e', 'c n f', 'c n g', 'c n h', 'c n j', 'c n k', 'c n l', 'c n n', 'c n p', 'c n r', 'c n u', 'c n v', 'c n w', 'c p', 'c p b', 'c p c', 'c p e', 'c p g', 'c p h', 'c p l', 'c p n', 'c p p', 'c p r', 'c p u', 'c r', 'c r b', 'c r c', 'c r e', 'c r f', 'c r g', 'c r h', 'c r k', 'c r l', 'c r n', 'c r p', 'c r r', 'c r u', 'c r v', 'c r w', 'c r z', 'c u', 'c u b', 'c u c', 'c u e', 'c u f', 'c u g', 'c u h', 'c u l', 'c u n', 'c u p', 'c u r', 'c u u', 'c u w', 'c u z', 'c v', 'c v e', 'c v l', 'c w', 'c w e', 'c w h', 'c w l', 'c w n', 'c w r', 'c z', 'c z e', 'e b', 'e b b', 'e b c', 'e b e', 'e b f', 'e b g', 'e b h', 'e b k', 'e b l', 'e b n', 'e b p', 'e b r', 'e b u', 'e b v', 'e b w', 'e b x', 'e c', 'e c b', 'e c c', 'e c e', 'e c f', 'e c g', 'e c h', 'e c k', 'e c l', 'e c n', 'e c p', 'e c r', 'e c u', 'e c v', 'e c w', 'e c z', 'e e', 'e e b', 'e e c', 'e e e', 'e e f', 'e e g', 'e e h', 'e e j', 'e e k', 'e e l', 'e e n', 'e e p', 'e e q', 'e e r', 'e e u', 'e e v', 'e e w', 'e e x', 'e e z', 'e f', 'e f b', 'e f c', 'e f e', 'e f f', 'e f g', 'e f h', 'e f j', 'e f k', 'e f l', 'e f n', 'e f p', 'e f r', 'e f u', 'e f v', 'e f w', 'e g', 'e g b', 'e g c', 'e g e', 'e g f', 'e g g', 'e g h', 'e g k', 'e g l', 'e g n', 'e g p', 'e g r', 'e g u', 'e g v', 'e g w', 'e h', 'e h b', 'e h c', 'e h e', 'e h f', 'e h g', 'e h h', 'e h j', 'e h k', 'e h l', 'e h n', 'e h p', 'e h r', 'e h u', 'e h v', 'e h w', 'e j', 'e j b', 'e j c', 'e j e', 'e j h', 'e j k', 'e j n', 'e j r', 'e j u', 'e k', 'e k b', 'e k c', 'e k e', 'e k f', 'e k g', 'e k h', 'e k k', 'e k l', 'e k n', 'e k p', 'e k r', 'e k u', 'e k v', 'e k w', 'e l', 'e l b', 'e l c', 'e l e', 'e l f', 'e l g', 'e l h', 'e l k', 'e l l', 'e l n', 'e l p', 'e l r', 'e l u', 'e l v', 'e l w', 'e l z', 'e n', 'e n b', 'e n c', 'e n e', 'e n f', 'e n g', 'e n h', 'e n j', 'e n k', 'e n l', 'e n n', 'e n p', 'e n q', 'e n r', 'e n u', 'e n v', 'e n w', 'e n z', 'e p', 'e p b', 'e p c', 'e p e', 'e p f', 'e p g', 'e p h', 'e p j', 'e p k', 'e p l', 'e p n', 'e p p', 'e p r', 'e p u', 'e p v', 'e p w', 'e q', 'e q u', 'e r b', 'e r c', 'e r e', 'e r f', 'e r g', 'e r h', 'e r j', 'e r k', 'e r l', 'e r n', 'e r p', 'e r q', 'e r r', 'e r u', 'e r v', 'e r w', 'e r x', 'e r z', 'e u', 'e u b', 'e u c', 'e u e', 'e u f', 'e u g', 'e u h', 'e u j', 'e u k', 'e u l', 'e u n', 'e u p', 'e u r', 'e u u', 'e u v', 'e u w', 'e v', 'e v c', 'e v e', 'e v g', 'e v l', 'e v n', 'e v r', 'e v w', 'e w', 'e w b', 'e w c', 'e w e', 'e w f', 'e w g', 'e w h', 'e w j', 'e w k', 'e w l', 'e w n', 'e w p', 'e w r', 'e w u', 'e w v', 'e w w', 'e x', 'e x b', 'e x c', 'e x e', 'e x g', 'e x h', 'e x l', 'e x n', 'e x p', 'e x r', 'e x u', 'e x w', 'e z', 'e z e', 'e z n', 'e z u', 'f', 'f b', 'f b c', 'f b e', 'f b g', 'f b h', 'f b l', 'f b n', 'f b r', 'f b u', 'f c', 'f c b', 'f c c', 'f c e', 'f c g', 'f c h', 'f c k', 'f c l', 'f c n', 'f c r', 'f c u', 'f c v', 'f e', 'f e b', 'f e c', 'f e e', 'f e f', 'f e g', 'f e h', 'f e l', 'f e n', 'f e p', 'f e r', 'f e u', 'f e v', 'f e w', 'f e x', 'f f', 'f f b', 'f f c', 'f f e', 'f f f', 'f f h', 'f f l', 'f f n', 'f f p', 'f f r', 'f f u', 'f f w', 'f g', 'f g e', 'f g h', 'f g n', 'f g r', 'f g u', 'f g v', 'f h', 'f h b', 'f h c', 'f h e', 'f h f', 'f h g', 'f h h', 'f h l', 'f h n', 'f h p', 'f h r', 'f h u', 'f h v', 'f h w', 'f j', 'f j u', 'f k', 'f k e', 'f k n', 'f l', 'f l b', 'f l c', 'f l e', 'f l f', 'f l g', 'f l h', 'f l k', 'f l l', 'f l n', 'f l p', 'f l r', 'f l u', 'f l w', 'f n', 'f n b', 'f n c', 'f n e', 'f n f', 'f n g', 'f n h', 'f n j', 'f n k', 'f n l', 'f n n', 'f n p', 'f n r', 'f n u', 'f n w', 'f p', 'f p e', 'f p h', 'f p l', 'f p p', 'f p r', 'f p u', 'f p w', 'f r', 'f r b', 'f r c', 'f r e', 'f r f', 'f r g', 'f r h', 'f r j', 'f r k', 'f r l', 'f r n', 'f r p', 'f r r', 'f r u', 'f r v', 'f r w', 'f u', 'f u b', 'f u c', 'f u e', 'f u f', 'f u g', 'f u h', 'f u k', 'f u l', 'f u n', 'f u p', 'f u r', 'f u u', 'f u w', 'f v', 'f v e', 'f v r', 'f w', 'f w e', 'f w h', 'f w l', 'f w n', 'f w r', 'f w u', 'f x', 'f x n', 'g b', 'g b b', 'g b c', 'g b e', 'g b g', 'g b h', 'g b l', 'g b n', 'g b r', 'g b u', 'g c', 'g c c', 'g c e', 'g c g', 'g c h', 'g c k', 'g c l', 'g c n', 'g c p', 'g c r', 'g c u', 'g c z', 'g e', 'g e b', 'g e c', 'g e e', 'g e f', 'g e g', 'g e h', 'g e k', 'g e l', 'g e n', 'g e p', 'g e r', 'g e u', 'g e v', 'g e w', 'g e x', 'g f', 'g f c', 'g f e', 'g f f', 'g f g', 'g f h', 'g f l', 'g f n', 'g f r', 'g f u', 'g g', 'g g b', 'g g e', 'g g g', 'g g h', 'g g l', 'g g n', 'g g p', 'g g r', 'g g u', 'g g v', 'g g w', 'g h', 'g h b', 'g h c', 'g h e', 'g h f', 'g h g', 'g h h', 'g h j', 'g h k', 'g h l', 'g h n', 'g h p', 'g h r', 'g h u', 'g h v', 'g h w', 'g j', 'g j b', 'g j e', 'g j l', 'g j u', 'g k', 'g k e', 'g k g', 'g k l', 'g k n', 'g k v', 'g l', 'g l b', 'g l c', 'g l e', 'g l f', 'g l g', 'g l h', 'g l k', 'g l l', 'g l n', 'g l r', 'g l u', 'g l v', 'g l w', 'g l z', 'g n', 'g n b', 'g n c', 'g n e', 'g n f', 'g n g', 'g n h', 'g n j', 'g n k', 'g n l', 'g n n', 'g n p', 'g n r', 'g n u', 'g n v', 'g n w', 'g n z', 'g p', 'g p b', 'g p c', 'g p e', 'g p f', 'g p g', 'g p h', 'g p l', 'g p n', 'g p p', 'g p r', 'g p u', 'g p w', 'g q', 'g q n', 'g q u', 'g r', 'g r b', 'g r c', 'g r e', 'g r f', 'g r g', 'g r h', 'g r k', 'g r l', 'g r n', 'g r p', 'g r r', 'g r u', 'g r v', 'g r w', 'g u', 'g u b', 'g u c', 'g u e', 'g u f', 'g u g', 'g u h', 'g u l', 'g u n', 'g u p', 'g u r', 'g u u', 'g u w', 'g v', 'g v e', 'g v l', 'g v n', 'g w', 'g w c', 'g w e', 'g w g', 'g w h', 'g w l', 'g w n', 'g w r', 'g w u', 'g w w', 'g x', 'g z', 'g z e', 'h b', 'h b b', 'h b c', 'h b e', 'h b f', 'h b g', 'h b h', 'h b l', 'h b n', 'h b r', 'h b u', 'h b w', 'h c', 'h c c', 'h c e', 'h c g', 'h c h', 'h c k', 'h c l', 'h c n', 'h c p', 'h c r', 'h c u', 'h e b', 'h e c', 'h e e', 'h e f', 'h e g', 'h e h', 'h e j', 'h e k', 'h e l', 'h e n', 'h e p', 'h e q', 'h e r', 'h e u', 'h e v', 'h e w', 'h e x', 'h e z', 'h f', 'h f b', 'h f c', 'h f e', 'h f f', 'h f h', 'h f k', 'h f l', 'h f n', 'h f r', 'h f u', 'h g', 'h g b', 'h g e', 'h g f', 'h g g', 'h g h', 'h g l', 'h g n', 'h g p', 'h g r', 'h g u', 'h g v', 'h g w', 'h h', 'h h b', 'h h c', 'h h e', 'h h f', 'h h g', 'h h h', 'h h k', 'h h l', 'h h n', 'h h p', 'h h r', 'h h u', 'h h v', 'h h w', 'h j', 'h j b', 'h j e', 'h j h', 'h j u', 'h k', 'h k e', 'h k h', 'h k n', 'h k v', 'h l', 'h l b', 'h l c', 'h l e', 'h l f', 'h l g', 'h l h', 'h l k', 'h l l', 'h l n', 'h l p', 'h l r', 'h l u', 'h l v', 'h l w', 'h n', 'h n b', 'h n c', 'h n e', 'h n f', 'h n g', 'h n h', 'h n j', 'h n k', 'h n l', 'h n n', 'h n p', 'h n r', 'h n u', 'h n v', 'h n w', 'h n z', 'h p', 'h p b', 'h p c', 'h p e', 'h p f', 'h p g', 'h p h', 'h p l', 'h p n', 'h p p', 'h p r', 'h p u', 'h p w', 'h q', 'h q u', 'h r', 'h r b', 'h r c', 'h r e', 'h r f', 'h r g', 'h r h', 'h r l', 'h r n', 'h r p', 'h r r', 'h r u', 'h r v', 'h r w', 'h u', 'h u b', 'h u c', 'h u e', 'h u f', 'h u g', 'h u h', 'h u k', 'h u l', 'h u n', 'h u p', 'h u r', 'h u u', 'h u w', 'h v', 'h v e', 'h v l', 'h v n', 'h v r', 'h w', 'h w b', 'h w c', 'h w e', 'h w f', 'h w g', 'h w h', 'h w l', 'h w n', 'h w p', 'h w r', 'h w u', 'h w w', 'h x', 'h z', 'h z e', 'j', 'j b', 'j b b', 'j b h', 'j b l', 'j b n', 'j b w', 'j c', 'j c k', 'j e', 'j e b', 'j e c', 'j e f', 'j e l', 'j e n', 'j e p', 'j e r', 'j e u', 'j e w', 'j h', 'j h n', 'j j', 'j k', 'j k e', 'j l', 'j l e', 'j l f', 'j l h', 'j n', 'j n e', 'j p', 'j r', 'j r f', 'j r n', 'j r u', 'j u', 'j u b', 'j u c', 'j u e', 'j u f', 'j u g', 'j u h', 'j u k', 'j u l', 'j u n', 'j u p', 'j u r', 'j u u', 'j u v', 'j u w', 'j w', 'j w n', 'k', 'k b', 'k b b', 'k b c', 'k b e', 'k b l', 'k b n', 'k b r', 'k b u', 'k c', 'k c h', 'k c k', 'k c l', 'k c n', 'k c r', 'k e', 'k e b', 'k e c', 'k e e', 'k e f', 'k e g', 'k e h', 'k e j', 'k e k', 'k e l', 'k e n', 'k e p', 'k e r', 'k e u', 'k e v', 'k e w', 'k e x', 'k f', 'k f c', 'k f e', 'k f f', 'k f h', 'k f l', 'k f n', 'k f r', 'k f u', 'k g', 'k g e', 'k g f', 'k g n', 'k g r', 'k g u', 'k h', 'k h b', 'k h e', 'k h h', 'k h l', 'k h n', 'k h p', 'k h r', 'k h u', 'k h v', 'k h w', 'k j', 'k j e', 'k j u', 'k k', 'k k e', 'k k h', 'k k k', 'k k n', 'k k u', 'k l', 'k l b', 'k l e', 'k l f', 'k l h', 'k l k', 'k l l', 'k l n', 'k l r', 'k l u', 'k l v', 'k l w', 'k n', 'k n b', 'k n c', 'k n e', 'k n f', 'k n g', 'k n h', 'k n j', 'k n k', 'k n l', 'k n n', 'k n p', 'k n r', 'k n u', 'k n v', 'k n w', 'k p', 'k p e', 'k p l', 'k p n', 'k p r', 'k p u', 'k r', 'k r b', 'k r c', 'k r e', 'k r g', 'k r h', 'k r n', 'k r r', 'k r u', 'k u', 'k u b', 'k u c', 'k u e', 'k u f', 'k u g', 'k u h', 'k u l', 'k u n', 'k u p', 'k u r', 'k u u', 'k v', 'k v e', 'k v n', 'k w', 'k w e', 'k w f', 'k w h', 'k w l', 'k w n', 'k w r', 'k w u', 'l b', 'l b b', 'l b c', 'l b e', 'l b f', 'l b g', 'l b h', 'l b k', 'l b l', 'l b n', 'l b r', 'l b u', 'l c', 'l c b', 'l c c', 'l c e', 'l c f', 'l c g', 'l c h', 'l c k', 'l c l', 'l c n', 'l c p', 'l c r', 'l c u', 'l c v', 'l c w', 'l e', 'l e b', 'l e c', 'l e e', 'l e f', 'l e g', 'l e h', 'l e j', 'l e k', 'l e l', 'l e n', 'l e p', 'l e r', 'l e u', 'l e v', 'l e w', 'l e x', 'l e z', 'l f', 'l f b', 'l f c', 'l f e', 'l f f', 'l f g', 'l f h', 'l f k', 'l f l', 'l f n', 'l f p', 'l f r', 'l f u', 'l f w', 'l g', 'l g b', 'l g c', 'l g e', 'l g g', 'l g h', 'l g l', 'l g n', 'l g p', 'l g r', 'l g u', 'l g v', 'l g w', 'l g z', 'l h', 'l h b', 'l h c', 'l h e', 'l h f', 'l h g', 'l h h', 'l h j', 'l h k', 'l h l', 'l h n', 'l h p', 'l h r', 'l h u', 'l h v', 'l h w', 'l j', 'l j e', 'l j u', 'l k', 'l k b', 'l k c', 'l k e', 'l k f', 'l k g', 'l k h', 'l k l', 'l k n', 'l k r', 'l k u', 'l k v', 'l k w', 'l l', 'l l b', 'l l c', 'l l e', 'l l f', 'l l g', 'l l h', 'l l j', 'l l k', 'l l l', 'l l n', 'l l p', 'l l r', 'l l u', 'l l v', 'l l w', 'l n', 'l n b', 'l n c', 'l n e', 'l n f', 'l n g', 'l n h', 'l n j', 'l n k', 'l n l', 'l n n', 'l n p', 'l n r', 'l n u', 'l n v', 'l n w', 'l n z', 'l p', 'l p b', 'l p c', 'l p e', 'l p f', 'l p g', 'l p h', 'l p k', 'l p l', 'l p n', 'l p p', 'l p r', 'l p u', 'l p w', 'l q', 'l q u', 'l r', 'l r b', 'l r c', 'l r e', 'l r f', 'l r g', 'l r h', 'l r k', 'l r l', 'l r n', 'l r p', 'l r r', 'l r u', 'l r w', 'l u', 'l u b', 'l u c', 'l u e', 'l u f', 'l u g', 'l u h', 'l u l', 'l u n', 'l u p', 'l u r', 'l u u', 'l u v', 'l u w', 'l v', 'l v e', 'l v l', 'l v n', 'l w', 'l w b', 'l w c', 'l w e', 'l w f', 'l w g', 'l w h', 'l w k', 'l w l', 'l w n', 'l w p', 'l w r', 'l w u', 'l w v', 'l w w', 'l x', 'l z', 'l z e', 'l z n', 'n b', 'n b b', 'n b c', 'n b e', 'n b f', 'n b g', 'n b h', 'n b k', 'n b l', 'n b n', 'n b p', 'n b r', 'n b u', 'n b v', 'n b w', 'n c', 'n c b', 'n c c', 'n c e', 'n c f', 'n c h', 'n c k', 'n c l', 'n c n', 'n c p', 'n c r', 'n c u', 'n c v', 'n c w', 'n e', 'n e b', 'n e c', 'n e e', 'n e f', 'n e g', 'n e h', 'n e j', 'n e k', 'n e l', 'n e n', 'n e p', 'n e q', 'n e r', 'n e u', 'n e v', 'n e w', 'n e x', 'n e z', 'n f', 'n f b', 'n f c', 'n f e', 'n f f', 'n f g', 'n f h', 'n f j', 'n f k', 'n f l', 'n f n', 'n f p', 'n f r', 'n f u', 'n f v', 'n f w', 'n f x', 'n g', 'n g b', 'n g c', 'n g e', 'n g f', 'n g g', 'n g h', 'n g j', 'n g k', 'n g l', 'n g n', 'n g p', 'n g q', 'n g r', 'n g u', 'n g v', 'n g w', 'n g x', 'n h', 'n h b', 'n h c', 'n h e', 'n h f', 'n h g', 'n h h', 'n h j', 'n h k', 'n h l', 'n h n', 'n h p', 'n h r', 'n h u', 'n h v', 'n h w', 'n j', 'n j e', 'n j l', 'n j n', 'n j u', 'n k', 'n k b', 'n k c', 'n k e', 'n k f', 'n k g', 'n k h', 'n k j', 'n k k', 'n k l', 'n k n', 'n k p', 'n k r', 'n k u', 'n k v', 'n k w', 'n l', 'n l b', 'n l c', 'n l e', 'n l f', 'n l g', 'n l h', 'n l k', 'n l l', 'n l n', 'n l p', 'n l r', 'n l u', 'n l v', 'n l w', 'n l z', 'n n', 'n n b', 'n n c', 'n n e', 'n n f', 'n n g', 'n n h', 'n n j', 'n n k', 'n n l', 'n n n', 'n n p', 'n n r', 'n n u', 'n n v', 'n n w', 'n n z', 'n p', 'n p b', 'n p c', 'n p e', 'n p f', 'n p g', 'n p h', 'n p k', 'n p l', 'n p n', 'n p p', 'n p r', 'n p u', 'n p v', 'n p w', 'n q', 'n q u', 'n r', 'n r b', 'n r c', 'n r e', 'n r f', 'n r g', 'n r h', 'n r k', 'n r l', 'n r n', 'n r p', 'n r r', 'n r u', 'n r v', 'n r w', 'n u', 'n u b', 'n u c', 'n u e', 'n u f', 'n u g', 'n u h', 'n u j', 'n u k', 'n u l', 'n u n', 'n u p', 'n u r', 'n u u', 'n u w', 'n v', 'n v b', 'n v c', 'n v e', 'n v g', 'n v l', 'n v n', 'n v r', 'n v u', 'n w', 'n w b', 'n w c', 'n w e', 'n w f', 'n w g', 'n w h', 'n w k', 'n w l', 'n w n', 'n w p', 'n w r', 'n w u', 'n w v', 'n w w', 'n x', 'n z', 'n z b', 'n z c', 'n z e', 'n z n', 'n z r', 'n z u', 'p', 'p b', 'p b c', 'p b e', 'p b h', 'p b l', 'p b n', 'p b r', 'p b u', 'p c', 'p c b', 'p c c', 'p c e', 'p c h', 'p c k', 'p c l', 'p c n', 'p c p', 'p c r', 'p c u', 'p e', 'p e b', 'p e c', 'p e e', 'p e f', 'p e g', 'p e h', 'p e k', 'p e l', 'p e n', 'p e p', 'p e r', 'p e u', 'p e v', 'p e w', 'p e x', 'p f', 'p f c', 'p f e', 'p f f', 'p f h', 'p f l', 'p f n', 'p f r', 'p f u', 'p g', 'p g e', 'p g h', 'p g n', 'p g p', 'p g r', 'p g u', 'p g v', 'p h', 'p h b', 'p h c', 'p h e', 'p h g', 'p h h', 'p h l', 'p h n', 'p h p', 'p h r', 'p h u', 'p h v', 'p h w', 'p j', 'p j e', 'p j u', 'p k', 'p k e', 'p k n', 'p k v', 'p l', 'p l b', 'p l c', 'p l e', 'p l f', 'p l g', 'p l h', 'p l k', 'p l l', 'p l n', 'p l p', 'p l r', 'p l u', 'p l w', 'p n', 'p n b', 'p n c', 'p n e', 'p n f', 'p n g', 'p n h', 'p n j', 'p n k', 'p n l', 'p n n', 'p n p', 'p n r', 'p n u', 'p n w', 'p n z', 'p p', 'p p b', 'p p c', 'p p e', 'p p g', 'p p h', 'p p l', 'p p n', 'p p p', 'p p r', 'p p u', 'p p w', 'p r', 'p r b', 'p r c', 'p r e', 'p r f', 'p r g', 'p r h', 'p r k', 'p r l', 'p r n', 'p r p', 'p r r', 'p r u', 'p r v', 'p r w', 'p u', 'p u b', 'p u c', 'p u e', 'p u f', 'p u g', 'p u h', 'p u l', 'p u n', 'p u p', 'p u r', 'p u u', 'p u w', 'p v', 'p v e', 'p w', 'p w e', 'p w h', 'p w l', 'p w n', 'p x', 'p z', 'p z z', 'q', 'q n', 'q n n', 'q u', 'q u c', 'q u e', 'q u l', 'q u r', 'r b', 'r b b', 'r b c', 'r b e', 'r b g', 'r b h', 'r b k', 'r b l', 'r b n', 'r b r', 'r b u', 'r b w', 'r c', 'r c b', 'r c c', 'r c e', 'r c f', 'r c g', 'r c h', 'r c k', 'r c l', 'r c n', 'r c p', 'r c r', 'r c u', 'r c v', 'r c w', 'r c z', 'r e', 'r e b', 'r e c', 'r e e', 'r e f', 'r e g', 'r e h', 'r e j', 'r e k', 'r e l', 'r e n', 'r e p', 'r e q', 'r e r', 'r e u', 'r e v', 'r e w', 'r e x', 'r e z', 'r f', 'r f b', 'r f c', 'r f e', 'r f f', 'r f g', 'r f h', 'r f k', 'r f l', 'r f n', 'r f p', 'r f r', 'r f u', 'r f w', 'r g', 'r g b', 'r g c', 'r g e', 'r g f', 'r g g', 'r g h', 'r g l', 'r g n', 'r g p', 'r g r', 'r g u', 'r g v', 'r g w', 'r h', 'r h b', 'r h c', 'r h e', 'r h f', 'r h g', 'r h h', 'r h k', 'r h l', 'r h n', 'r h p', 'r h r', 'r h u', 'r h v', 'r h w', 'r j', 'r j b', 'r j e', 'r j r', 'r j u', 'r k', 'r k c', 'r k e', 'r k f', 'r k g', 'r k h', 'r k k', 'r k l', 'r k n', 'r k p', 'r k r', 'r k u', 'r k v', 'r k w', 'r l', 'r l b', 'r l c', 'r l e', 'r l f', 'r l g', 'r l h', 'r l j', 'r l k', 'r l l', 'r l n', 'r l p', 'r l q', 'r l r', 'r l u', 'r l v', 'r l w', 'r n', 'r n b', 'r n c', 'r n e', 'r n f', 'r n g', 'r n h', 'r n j', 'r n k', 'r n l', 'r n n', 'r n p', 'r n r', 'r n u', 'r n v', 'r n w', 'r p', 'r p b', 'r p c', 'r p e', 'r p f', 'r p g', 'r p h', 'r p j', 'r p l', 'r p n', 'r p p', 'r p r', 'r p u', 'r p w', 'r q', 'r q u', 'r r', 'r r b', 'r r c', 'r r e', 'r r f', 'r r g', 'r r h', 'r r k', 'r r l', 'r r n', 'r r p', 'r r r', 'r r u', 'r r v', 'r r w', 'r u', 'r u b', 'r u c', 'r u e', 'r u f', 'r u g', 'r u h', 'r u k', 'r u l', 'r u n', 'r u p', 'r u r', 'r u u', 'r u w', 'r u z', 'r v', 'r v c', 'r v e', 'r v l', 'r v n', 'r v r', 'r v v', 'r w', 'r w b', 'r w c', 'r w e', 'r w f', 'r w h', 'r w l', 'r w n', 'r w p', 'r w r', 'r w u', 'r w w', 'r x', 'r z', 'r z e', 'r z h', 'r z l', 'r z n', 'r z p', 'u b', 'u b b', 'u b c', 'u b e', 'u b f', 'u b g', 'u b h', 'u b j', 'u b k', 'u b l', 'u b n', 'u b p', 'u b r', 'u b u', 'u b w', 'u c', 'u c c', 'u c e', 'u c h', 'u c k', 'u c l', 'u c n', 'u c p', 'u c r', 'u c u', 'u c v', 'u e', 'u e b', 'u e c', 'u e e', 'u e f', 'u e g', 'u e h', 'u e j', 'u e k', 'u e l', 'u e n', 'u e p', 'u e r', 'u e u', 'u e v', 'u e w', 'u e x', 'u f', 'u f b', 'u f c', 'u f e', 'u f f', 'u f g', 'u f h', 'u f l', 'u f n', 'u f p', 'u f r', 'u f u', 'u g', 'u g b', 'u g c', 'u g e', 'u g f', 'u g g', 'u g h', 'u g l', 'u g n', 'u g r', 'u g u', 'u g v', 'u g w', 'u h', 'u h b', 'u h c', 'u h e', 'u h f', 'u h g', 'u h h', 'u h k', 'u h l', 'u h n', 'u h p', 'u h r', 'u h u', 'u h v', 'u h w', 'u j', 'u j b', 'u j e', 'u j u', 'u k', 'u k e', 'u k l', 'u k n', 'u l', 'u l b', 'u l c', 'u l e', 'u l f', 'u l g', 'u l h', 'u l j', 'u l k', 'u l l', 'u l n', 'u l p', 'u l r', 'u l u', 'u l v', 'u l w', 'u n', 'u n b', 'u n c', 'u n e', 'u n f', 'u n g', 'u n h', 'u n j', 'u n k', 'u n l', 'u n n', 'u n p', 'u n q', 'u n r', 'u n u', 'u n v', 'u n w', 'u p', 'u p b', 'u p c', 'u p e', 'u p f', 'u p g', 'u p h', 'u p j', 'u p k', 'u p l', 'u p n', 'u p p', 'u p r', 'u p u', 'u p v', 'u p w', 'u q', 'u q u', 'u r', 'u r b', 'u r c', 'u r e', 'u r f', 'u r g', 'u r h', 'u r j', 'u r k', 'u r l', 'u r n', 'u r p', 'u r r', 'u r u', 'u r v', 'u r w', 'u u', 'u u b', 'u u c', 'u u e', 'u u g', 'u u h', 'u u l', 'u u n', 'u u p', 'u u r', 'u u u', 'u v', 'u v e', 'u v l', 'u w', 'u w c', 'u w e', 'u w h', 'u w l', 'u w n', 'u w r', 'u w u', 'u x', 'u z', 'v', 'v b', 'v b l', 'v c', 'v c e', 'v c f', 'v c h', 'v c n', 'v c r', 'v c u', 'v e', 'v e b', 'v e c', 'v e e', 'v e f', 'v e g', 'v e h', 'v e j', 'v e k', 'v e l', 'v e n', 'v e p', 'v e r', 'v e u', 'v e v', 'v e w', 'v e z', 'v f', 'v g', 'v h', 'v j', 'v k', 'v l', 'v l e', 'v l f', 'v l g', 'v l h', 'v l l', 'v l n', 'v l r', 'v l u', 'v l v', 'v l w', 'v n', 'v n c', 'v n e', 'v n g', 'v n h', 'v n n', 'v n p', 'v n u', 'v p', 'v r', 'v r e', 'v r n', 'v r u', 'v u', 'v u h', 'v u l', 'v u r', 'v v', 'v v e', 'v w', 'v w e', 'w', 'w b', 'w b c', 'w b e', 'w b g', 'w b l', 'w b n', 'w b r', 'w b u', 'w c', 'w c e', 'w c h', 'w c k', 'w c l', 'w c n', 'w c p', 'w c r', 'w c u', 'w e', 'w e b', 'w e c', 'w e e', 'w e f', 'w e g', 'w e h', 'w e j', 'w e k', 'w e l', 'w e n', 'w e p', 'w e r', 'w e u', 'w e v', 'w e w', 'w e x', 'w f', 'w f c', 'w f e', 'w f f', 'w f h', 'w f l', 'w f r', 'w f u', 'w g', 'w g e', 'w g g', 'w g h', 'w g n', 'w g r', 'w g u', 'w g w', 'w h', 'w h b', 'w h c', 'w h e', 'w h f', 'w h g', 'w h h', 'w h j', 'w h k', 'w h l', 'w h n', 'w h p', 'w h q', 'w h r', 'w h u', 'w h v', 'w h w', 'w j', 'w j u', 'w k', 'w k e', 'w l', 'w l b', 'w l e', 'w l f', 'w l k', 'w l l', 'w l n', 'w l r', 'w l w', 'w n', 'w n b', 'w n c', 'w n e', 'w n f', 'w n g', 'w n h', 'w n j', 'w n k', 'w n l', 'w n n', 'w n p', 'w n r', 'w n u', 'w n v', 'w n w', 'w p', 'w p c', 'w p e', 'w p h', 'w p l', 'w p n', 'w p p', 'w p r', 'w p u', 'w q', 'w r', 'w r b', 'w r c', 'w r e', 'w r f', 'w r g', 'w r h', 'w r k', 'w r l', 'w r n', 'w r p', 'w r r', 'w r u', 'w r w', 'w u', 'w u b', 'w u c', 'w u e', 'w u f', 'w u g', 'w u h', 'w u l', 'w u n', 'w u p', 'w u r', 'w u w', 'w v', 'w v e', 'w w', 'w w e', 'w w g', 'w w h', 'w w l', 'w w n', 'w w r', 'w w u', 'x', 'x b', 'x c', 'x c e', 'x c h', 'x c l', 'x c n', 'x c u', 'x e', 'x e c', 'x e n', 'x e r', 'x f', 'x g', 'x h', 'x h e', 'x l', 'x n', 'x n e', 'x n g', 'x p', 'x p e', 'x p l', 'x p r', 'x r', 'x r e', 'x u', 'x u l', 'x u r', 'x w', 'x w h', 'z', 'z b', 'z b e', 'z c', 'z e', 'z e b', 'z e c', 'z e e', 'z e f', 'z e h', 'z e l', 'z e n', 'z e r', 'z e w', 'z f', 'z g', 'z h', 'z h e', 'z h n', 'z l', 'z l b', 'z l e', 'z n', 'z n e', 'z n g', 'z n h', 'z p', 'z p e', 'z r', 'z r e', 'z u', 'z u r', 'z w', 'z z', 'CC', 'CC DT', 'CC DT NN', 'CC JJ', 'CC JJ JJ', 'CC JJ NN', 'CC NN', 'CC NN NN', 'DT DT', 'DT DT DT', 'DT DT JJ', 'DT DT NN', 'DT FW', 'DT FW DT', 'DT JJ JJ', 'DT JJ VBP', 'DT NN CC', 'DT NN DT', 'DT NN IN', 'DT NN JJ', 'DT NN MD', 'DT NN VB', 'DT NN VBD', 'DT NN VBP', 'DT NN VBZ', 'DT NN WRB', 'DT VB', 'DT VB DT', 'FW', 'FW CC', 'FW CC JJ', 'FW DT', 'FW DT JJ', 'FW DT NN', 'FW FW', 'FW FW DT', 'FW FW FW', 'FW FW JJ', 'FW FW NN', 'FW FW VBP', 'FW JJ', 'FW JJ NN', 'FW NN', 'FW NN JJ', 'FW NN NN', 'FW NN VBD', 'FW VB', 'FW VB DT', 'FW VBP', 'IN', 'IN DT', 'IN DT JJ', 'IN DT NN', 'IN FW', 'IN JJ', 'IN JJ FW', 'IN JJ JJ', 'IN JJ NN', 'IN JJ NNS', 'IN JJ VBP', 'IN NN', 'IN NN IN', 'IN NN JJ', 'IN NN NN', 'IN NN VBP', 'JJ FW', 'JJ FW DT', 'JJ FW NN', 'JJ IN', 'JJ IN DT', 'JJ IN NN', 'JJ JJ', 'JJ JJ FW', 'JJ JJ IN', 'JJ JJ JJ', 'JJ JJ NN', 'JJ JJ VBP', 'JJ MD', 'JJ MD VB', 'JJ NN CC', 'JJ NN DT', 'JJ NN IN', 'JJ NN JJ', 'JJ NN MD', 'JJ NN NNP', 'JJ NN NNS', 'JJ NN VB', 'JJ NN VBD', 'JJ NN VBP', 'JJ NN VBZ', 'JJ NNP', 'JJ NNP NN', 'JJ NNS', 'JJ NNS VBP', 'JJ VB', 'JJ VB DT', 'JJ VBP', 'JJ VBP DT', 'JJ VBP JJ', 'JJ VBP NN', 'JJ VBP PDT', 'JJ VBP VB', 'JJ VBP VBP', 'JJ VBZ', 'JJ VBZ DT', 'MD', 'MD VB', 'MD VB DT', 'MD VB JJ', 'MD VB NN', 'MD VB VB', 'NN CC', 'NN CC DT', 'NN CC JJ', 'NN CC NN', 'NN DT', 'NN DT DT', 'NN DT JJ', 'NN DT NN', 'NN FW', 'NN FW CC', 'NN FW DT', 'NN FW FW', 'NN FW JJ', 'NN FW NN', 'NN IN', 'NN IN DT', 'NN IN FW', 'NN IN JJ', 'NN IN NN', 'NN JJ IN', 'NN JJ JJ', 'NN JJ NNP', 'NN JJ VBP', 'NN JJ VBZ', 'NN MD', 'NN MD VB', 'NN NN CC', 'NN NN DT', 'NN NN FW', 'NN NN IN', 'NN NN NNP', 'NN NN NNS', 'NN NN RB', 'NN NN SYM', 'NN NN UH', 'NN NN VB', 'NN NN VBD', 'NN NN VBZ', 'NN NN WP', 'NN NN WRB', 'NN NNP', 'NN NNP CC', 'NN NNP NN', 'NN NNP NNP', 'NN NNP VBZ', 'NN NNS', 'NN NNS VBP', 'NN PRP', 'NN PRP VBP', 'NN RB', 'NN RB JJ', 'NN RB NN', 'NN SYM', 'NN SYM JJ', 'NN SYM NN', 'NN UH', 'NN UH JJ', 'NN UH NN', 'NN VB', 'NN VB DT', 'NN VB IN', 'NN VB JJ', 'NN VB NN', 'NN VB VBP', 'NN VBD', 'NN VBD DT', 'NN VBD JJ', 'NN VBD NN', 'NN VBD PDT', 'NN VBD VBZ', 'NN VBP CC', 'NN VBP DT', 'NN VBP FW', 'NN VBP IN', 'NN VBP JJ', 'NN VBP NNS', 'NN VBP PDT', 'NN VBP RB', 'NN VBP VB', 'NN VBP VBP', 'NN VBP VBZ', 'NN VBP WRB', 'NN VBZ', 'NN VBZ DT', 'NN VBZ NN', 'NN VBZ RP', 'NN VBZ VBZ', 'NN WP', 'NN WP NN', 'NN WP VBD', 'NN WRB', 'NN WRB DT', 'NN WRB NN', 'NNP', 'NNP CC', 'NNP CC JJ', 'NNP JJ', 'NNP NN', 'NNP NN JJ', 'NNP NN NN', 'NNP NN VBD', 'NNP NN VBZ', 'NNP NNP', 'NNP NNP NN', 'NNP NNP VBZ', 'NNP VBZ', 'NNP VBZ DT', 'NNP VBZ JJ', 'NNP VBZ NN', 'NNP VBZ RP', 'NNP VBZ VB', 'NNS', 'NNS JJ', 'NNS VBP', 'NNS VBP DT', 'NNS VBP JJ', 'NNS VBP NN', 'NNS VBP VB', 'PDT', 'PDT DT', 'PDT DT JJ', 'PDT DT NN', 'PRP', 'PRP DT', 'PRP DT JJ', 'PRP VBP', 'RB', 'RB DT', 'RB DT JJ', 'RB DT NN', 'RB JJ', 'RB JJ NN', 'RB NN', 'RB NN NN', 'RB VB', 'RB VB DT', 'RB VBP', 'RB VBP DT', 'RP', 'RP DT', 'RP DT NN', 'SYM', 'SYM JJ', 'SYM JJ NN', 'SYM NN', 'SYM NN NN', 'UH', 'UH JJ', 'UH JJ JJ', 'UH NN', 'UH NN IN', 'UH NN JJ', 'VB', 'VB DT', 'VB DT FW', 'VB DT JJ', 'VB DT NN', 'VB IN', 'VB IN DT', 'VB JJ', 'VB JJ JJ', 'VB JJ NN', 'VB JJ NNS', 'VB JJ VB', 'VB NN', 'VB NN DT', 'VB NN IN', 'VB NN JJ', 'VB NN NN', 'VB VB', 'VB VB DT', 'VB VBP', 'VB VBP DT', 'VBD', 'VBD DT', 'VBD DT FW', 'VBD DT JJ', 'VBD DT NN', 'VBD JJ', 'VBD JJ IN', 'VBD JJ JJ', 'VBD JJ NN', 'VBD NN', 'VBD NN NN', 'VBD PDT', 'VBD PDT DT', 'VBD VBZ', 'VBD VBZ DT', 'VBP CC', 'VBP CC JJ', 'VBP DT', 'VBP DT DT', 'VBP DT JJ', 'VBP DT NN', 'VBP FW', 'VBP IN', 'VBP IN DT', 'VBP IN NN', 'VBP JJ', 'VBP JJ FW', 'VBP JJ IN', 'VBP JJ JJ', 'VBP JJ NN', 'VBP JJ NNS', 'VBP JJ VBP', 'VBP NN CC', 'VBP NN DT', 'VBP NN FW', 'VBP NN IN', 'VBP NN JJ', 'VBP NN NNP', 'VBP NN NNS', 'VBP NN UH', 'VBP NN VB', 'VBP NN VBD', 'VBP NN VBP', 'VBP NNS', 'VBP NNS VBP', 'VBP PDT', 'VBP PDT DT', 'VBP RB', 'VBP RB DT', 'VBP RB VB', 'VBP RB VBP', 'VBP VB', 'VBP VB DT', 'VBP VBP', 'VBP VBP DT', 'VBP VBP JJ', 'VBP VBP NN', 'VBP VBZ', 'VBP VBZ DT', 'VBP WRB', 'VBP WRB DT', 'VBZ DT DT', 'VBZ DT JJ', 'VBZ DT NN', 'VBZ JJ', 'VBZ JJ JJ', 'VBZ JJ NN', 'VBZ JJ NNS', 'VBZ NN', 'VBZ NN NN', 'VBZ RP', 'VBZ RP DT', 'VBZ VB', 'VBZ VB DT', 'VBZ VBZ', 'VBZ VBZ DT', 'WP', 'WP NN', 'WP NN NN', 'WP VBD', 'WP VBD JJ', 'WRB', 'WRB DT', 'WRB DT JJ', 'WRB DT NN', 'WRB NN', 'WRB NN DT', 'WRB NN NN', 'FKRA', 'FRE', 'num_syllables', 'avg_syl_per_word', 'num_chars', 'num_chars_total', 'num_terms', 'num_words', 'num_unique_words', 'vader neg', 'vader pos', 'vader neu', 'vader compound', 'num_hashtags', 'num_mentions', 'num_urls', 'is_retweet']\n"
     ]
    }
   ],
   "source": []
  },
  {
   "cell_type": "code",
   "execution_count": null,
   "metadata": {},
   "outputs": [],
   "source": []
  },
  {
   "cell_type": "code",
   "execution_count": null,
   "metadata": {},
   "outputs": [],
   "source": []
  },
  {
   "cell_type": "code",
   "execution_count": null,
   "metadata": {},
   "outputs": [],
   "source": []
  },
  {
   "cell_type": "code",
   "execution_count": null,
   "metadata": {},
   "outputs": [],
   "source": []
  },
  {
   "cell_type": "code",
   "execution_count": null,
   "metadata": {},
   "outputs": [],
   "source": []
  },
  {
   "cell_type": "code",
   "execution_count": null,
   "metadata": {},
   "outputs": [],
   "source": []
  },
  {
   "cell_type": "code",
   "execution_count": null,
   "metadata": {},
   "outputs": [],
   "source": []
  },
  {
   "cell_type": "code",
   "execution_count": 8,
   "metadata": {},
   "outputs": [
    {
     "name": "stderr",
     "output_type": "stream",
     "text": [
      "/Users/gudbjartursigurbergsson/PythonEnv/thesis/lib/python3.7/site-packages/sklearn/linear_model/logistic.py:433: FutureWarning: Default solver will be changed to 'lbfgs' in 0.22. Specify a solver to silence this warning.\n",
      "  FutureWarning)\n",
      "/Users/gudbjartursigurbergsson/PythonEnv/thesis/lib/python3.7/site-packages/sklearn/linear_model/logistic.py:460: FutureWarning: Default multi_class will be changed to 'auto' in 0.22. Specify the multi_class option to silence this warning.\n",
      "  \"this warning.\", FutureWarning)\n",
      "/Users/gudbjartursigurbergsson/PythonEnv/thesis/lib/python3.7/site-packages/sklearn/svm/base.py:931: ConvergenceWarning: Liblinear failed to converge, increase the number of iterations.\n",
      "  \"the number of iterations.\", ConvergenceWarning)\n",
      "/Users/gudbjartursigurbergsson/PythonEnv/thesis/lib/python3.7/site-packages/sklearn/linear_model/logistic.py:460: FutureWarning: Default multi_class will be changed to 'auto' in 0.22. Specify the multi_class option to silence this warning.\n",
      "  \"this warning.\", FutureWarning)\n",
      "/Users/gudbjartursigurbergsson/PythonEnv/thesis/lib/python3.7/site-packages/sklearn/linear_model/logistic.py:758: ConvergenceWarning: lbfgs failed to converge. Increase the number of iterations.\n",
      "  \"of iterations.\", ConvergenceWarning)\n",
      "/Users/gudbjartursigurbergsson/PythonEnv/thesis/lib/python3.7/site-packages/sklearn/linear_model/logistic.py:758: ConvergenceWarning: lbfgs failed to converge. Increase the number of iterations.\n",
      "  \"of iterations.\", ConvergenceWarning)\n",
      "/Users/gudbjartursigurbergsson/PythonEnv/thesis/lib/python3.7/site-packages/sklearn/linear_model/logistic.py:758: ConvergenceWarning: lbfgs failed to converge. Increase the number of iterations.\n",
      "  \"of iterations.\", ConvergenceWarning)\n"
     ]
    }
   ],
   "source": [
    "# Train a model on the whole training dataset\n",
    "model, X_ = c.fit(X, y)"
   ]
  },
  {
   "cell_type": "code",
   "execution_count": 9,
   "metadata": {},
   "outputs": [],
   "source": [
    "# Get Predicted y's\n",
    "y_pred = c.predict(X_, model)"
   ]
  },
  {
   "cell_type": "code",
   "execution_count": 10,
   "metadata": {},
   "outputs": [
    {
     "name": "stdout",
     "output_type": "stream",
     "text": [
      "F1: [0.76331878 0.56078249 0.33365854], Recall: [0.72621521 0.56052142 0.43291139], Precision: [0.80441786 0.5610438  0.27142857], Accuracy: 0.6504127966976264\n"
     ]
    }
   ],
   "source": [
    "# Calculate some metrics..\n",
    "confusion_df_sub_c = c.confusion_matrix(\n",
    "    y_true=y,\n",
    "    y_pred=y_pred,\n",
    "    num_categories=3,\n",
    "    names=['IND', 'GRP', 'OTH'],\n",
    ")\n",
    "f1_score_sub_c = c.f1_score(y, y_pred)\n",
    "recall_sub_c = c.recall(y, y_pred)\n",
    "precision_sub_c = c.precision(y, y_pred)\n",
    "accuracy_sub_c = c.accuracy(y, y_pred)\n",
    "print(\"F1: {}, Recall: {}, Precision: {}, Accuracy: {}\".format(\n",
    "    f1_score_sub_c,\n",
    "    recall_sub_c, \n",
    "    precision_sub_c,\n",
    "    accuracy_sub_c,\n",
    "))"
   ]
  },
  {
   "cell_type": "code",
   "execution_count": 11,
   "metadata": {},
   "outputs": [
    {
     "name": "stdout",
     "output_type": "stream",
     "text": [
      "              precision    recall  f1-score   support\n",
      "\n",
      "           0       0.80      0.73      0.76      2407\n",
      "           1       0.56      0.56      0.56      1074\n",
      "           2       0.27      0.43      0.33       395\n",
      "\n",
      "   micro avg       0.65      0.65      0.65      3876\n",
      "   macro avg       0.55      0.57      0.55      3876\n",
      "weighted avg       0.68      0.65      0.66      3876\n",
      "\n"
     ]
    }
   ],
   "source": [
    "# Create and print a report\n",
    "report = classification_report(y, y_pred)\n",
    "print(report)"
   ]
  },
  {
   "cell_type": "code",
   "execution_count": 12,
   "metadata": {},
   "outputs": [
    {
     "data": {
      "image/png": "[encoded data removed]",
      "text/plain": [
       "<Figure size 360x360 with 1 Axes>"
      ]
     },
     "metadata": {
      "needs_background": "light"
     },
     "output_type": "display_data"
    }
   ],
   "source": [
    "# Plot confusion matrix for subtask B\n",
    "c.plot_confusion_matrix(confusion_df_sub_c)"
   ]
  },
  {
   "cell_type": "code",
   "execution_count": null,
   "metadata": {},
   "outputs": [],
   "source": []
  }
 ],
 "metadata": {
  "kernelspec": {
   "display_name": "thesis",
   "language": "python",
   "name": "thesis"
  },
  "language_info": {
   "codemirror_mode": {
    "name": "ipython",
    "version": 3
   },
   "file_extension": ".py",
   "mimetype": "text/x-python",
   "name": "python",
   "nbconvert_exporter": "python",
   "pygments_lexer": "ipython3",
   "version": "3.7.3"
  }
 },
 "nbformat": 4,
 "nbformat_minor": 2
}
