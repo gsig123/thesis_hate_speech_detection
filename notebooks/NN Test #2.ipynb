{
 "cells": [
  {
   "cell_type": "code",
   "execution_count": 18,
   "metadata": {},
   "outputs": [],
   "source": [
    "import sys\n",
    "sys.path.append(\"..\")\n",
    "from src.feature_extraction.bag_of_words import bag_of_words\n",
    "from src.feature_extraction.sentiment_score_english import sentiment_score_english\n",
    "from src.feature_extraction.tfidf_from_bow import tfidf_from_bow\n",
    "from src.feature_extraction.tokenize import tokenize\n",
    "from src.feature_extraction.w2v_embeddings import w2v_embeddings_from_sentences\n",
    "from src.feature_extraction.w2i import w2i\n",
    "from src.preprocess.data_prep_offenseval import DataPrepOffensEval\n",
    "import tensorflow as tf\n",
    "from tensorflow import keras\n"
   ]
  },
  {
   "cell_type": "code",
   "execution_count": 57,
   "metadata": {},
   "outputs": [],
   "source": [
    "file_path = \"../data/raw/OffensEval2019/start-kit/training-v1/offenseval-training-v1.tsv\"\n",
    "dp = DataPrepOffensEval()\n",
    "result_tuple = dp.get_X_and_ys(file_path=file_path)\n",
    "X = result_tuple[0]\n",
    "y_sub_a = result_tuple[1]\n",
    "y_sub_b = result_tuple[2]\n",
    "y_sub_c = result_tuple[3]\n",
    "sub_a_mapping = result_tuple[4]\n",
    "sub_b_mapping = result_tuple[5]\n",
    "sub_c_mapping = result_tuple[6]"
   ]
  },
  {
   "cell_type": "code",
   "execution_count": 59,
   "metadata": {},
   "outputs": [],
   "source": [
    "X, w2i_dict, i2w_dict = w2i(X)"
   ]
  },
  {
   "cell_type": "code",
   "execution_count": 60,
   "metadata": {},
   "outputs": [],
   "source": [
    "# Create a validation set with 20% of the data\n",
    "X_train, X_val, y_sub_a_train, y_sub_a_val = dp.train_test_split(X, y_sub_a, test_size=0.2)"
   ]
  },
  {
   "cell_type": "code",
   "execution_count": 61,
   "metadata": {},
   "outputs": [
    {
     "name": "stdout",
     "output_type": "stream",
     "text": [
      "_________________________________________________________________\n",
      "Layer (type)                 Output Shape              Param #   \n",
      "=================================================================\n",
      "embedding_5 (Embedding)      (None, None, 10)          218520    \n",
      "_________________________________________________________________\n",
      "bidirectional_5 (Bidirection (None, 10)                640       \n",
      "_________________________________________________________________\n",
      "dense_10 (Dense)             (None, 8)                 88        \n",
      "_________________________________________________________________\n",
      "dense_11 (Dense)             (None, 1)                 9         \n",
      "=================================================================\n",
      "Total params: 219,257\n",
      "Trainable params: 219,257\n",
      "Non-trainable params: 0\n",
      "_________________________________________________________________\n"
     ]
    }
   ],
   "source": [
    "# Build the model\n",
    "# Start of with an embedding layer with output size of 100\n",
    "# Then Bi-Directional LSTMs\n",
    "# Then 1 Dense Layer, maybe hidden size of 16?\n",
    "# Then dense, with sigmoid\n",
    "model = keras.Sequential()\n",
    "model.add(keras.layers.Embedding(\n",
    "    input_dim=len(w2i_dict), \n",
    "    output_dim=10,\n",
    "))\n",
    "model.add(keras.layers.Bidirectional(\n",
    "    layer=keras.layers.LSTM(5),\n",
    "    merge_mode=\"concat\",\n",
    "))\n",
    "model.add(keras.layers.Dense(\n",
    "    8,\n",
    "    activation=tf.nn.relu,\n",
    "))\n",
    "model.add(keras.layers.Dense(\n",
    "    1, \n",
    "    activation=tf.nn.sigmoid,\n",
    "))\n",
    "model.summary()"
   ]
  },
  {
   "cell_type": "code",
   "execution_count": 62,
   "metadata": {},
   "outputs": [],
   "source": [
    "model.compile(\n",
    "    optimizer=\"adam\",\n",
    "    loss=\"binary_crossentropy\",\n",
    "    metrics=['accuracy', 'categorical_accuracy']\n",
    ")"
   ]
  },
  {
   "cell_type": "code",
   "execution_count": 63,
   "metadata": {},
   "outputs": [
    {
     "name": "stdout",
     "output_type": "stream",
     "text": [
      "Train on 10592 samples, validate on 2648 samples\n",
      "Epoch 1/10\n",
      "10592/10592 [==============================] - 4s 403us/sample - loss: 0.6855 - acc: 0.6188 - categorical_accuracy: 1.0000 - val_loss: 0.6715 - val_acc: 0.6820 - val_categorical_accuracy: 1.0000\n",
      "Epoch 2/10\n",
      "10592/10592 [==============================] - 2s 206us/sample - loss: 0.6622 - acc: 0.6641 - categorical_accuracy: 1.0000 - val_loss: 0.6444 - val_acc: 0.6820 - val_categorical_accuracy: 1.0000\n",
      "Epoch 3/10\n",
      "10592/10592 [==============================] - 2s 202us/sample - loss: 0.6359 - acc: 0.6641 - categorical_accuracy: 1.0000 - val_loss: 0.6179 - val_acc: 0.6820 - val_categorical_accuracy: 1.0000\n",
      "Epoch 4/10\n",
      "10592/10592 [==============================] - 2s 200us/sample - loss: 0.6169 - acc: 0.6641 - categorical_accuracy: 1.0000 - val_loss: 0.6070 - val_acc: 0.6820 - val_categorical_accuracy: 1.0000\n",
      "Epoch 5/10\n",
      "10592/10592 [==============================] - 2s 201us/sample - loss: 0.5905 - acc: 0.6641 - categorical_accuracy: 1.0000 - val_loss: 0.5879 - val_acc: 0.6820 - val_categorical_accuracy: 1.0000\n",
      "Epoch 6/10\n",
      "10592/10592 [==============================] - 2s 202us/sample - loss: 0.5403 - acc: 0.6657 - categorical_accuracy: 1.0000 - val_loss: 0.5687 - val_acc: 0.6881 - val_categorical_accuracy: 1.0000\n",
      "Epoch 7/10\n",
      "10592/10592 [==============================] - 2s 201us/sample - loss: 0.4777 - acc: 0.7384 - categorical_accuracy: 1.0000 - val_loss: 0.5536 - val_acc: 0.7126 - val_categorical_accuracy: 1.0000\n",
      "Epoch 8/10\n",
      "10592/10592 [==============================] - 2s 202us/sample - loss: 0.4136 - acc: 0.8328 - categorical_accuracy: 1.0000 - val_loss: 0.5404 - val_acc: 0.7338 - val_categorical_accuracy: 1.0000\n",
      "Epoch 9/10\n",
      "10592/10592 [==============================] - 2s 199us/sample - loss: 0.3458 - acc: 0.8877 - categorical_accuracy: 1.0000 - val_loss: 0.5361 - val_acc: 0.7462 - val_categorical_accuracy: 1.0000\n",
      "Epoch 10/10\n",
      "10592/10592 [==============================] - 2s 199us/sample - loss: 0.2808 - acc: 0.9146 - categorical_accuracy: 1.0000 - val_loss: 0.5489 - val_acc: 0.7458 - val_categorical_accuracy: 1.0000\n"
     ]
    }
   ],
   "source": [
    "history = model.fit(\n",
    "    X_train, \n",
    "    y_sub_a_train,\n",
    "    epochs=10, \n",
    "    batch_size=512, \n",
    "    validation_data=(X_val, y_sub_a_val),\n",
    "    verbose=1,\n",
    ")"
   ]
  },
  {
   "cell_type": "code",
   "execution_count": 64,
   "metadata": {},
   "outputs": [
    {
     "data": {
      "image/png": "[encoded data removed]",
      "text/plain": [
       "<Figure size 432x288 with 1 Axes>"
      ]
     },
     "metadata": {
      "needs_background": "light"
     },
     "output_type": "display_data"
    }
   ],
   "source": [
    "# Plot train and validation loss to evaluate overfitting\n",
    "history_dict = history.history\n",
    "import matplotlib.pyplot as plt\n",
    "acc = history_dict['acc']\n",
    "val_acc = history_dict['val_acc']\n",
    "loss = history_dict['loss']\n",
    "val_loss = history_dict['val_loss']\n",
    "epochs = range(1, len(acc) + 1)\n",
    "plt.plot(epochs, loss, 'bo', label='Training loss')\n",
    "# b is for \"solid blue line\"\n",
    "plt.plot(epochs, val_loss, 'b', label='Validation loss')\n",
    "plt.title('Training and validation loss')\n",
    "plt.xlabel('Epochs')\n",
    "plt.ylabel('Loss')\n",
    "plt.legend()\n",
    "plt.show()"
   ]
  },
  {
   "cell_type": "code",
   "execution_count": 65,
   "metadata": {},
   "outputs": [
    {
     "data": {
      "image/png": "[encoded data removed]",
      "text/plain": [
       "<Figure size 432x288 with 1 Axes>"
      ]
     },
     "metadata": {
      "needs_background": "light"
     },
     "output_type": "display_data"
    }
   ],
   "source": [
    "plt.clf()   # clear figure\n",
    "\n",
    "plt.plot(epochs, acc, 'bo', label='Training acc')\n",
    "plt.plot(epochs, val_acc, 'b', label='Validation acc')\n",
    "plt.title('Training and validation accuracy')\n",
    "plt.xlabel('Epochs')\n",
    "plt.ylabel('Accuracy')\n",
    "plt.legend()\n",
    "plt.show()"
   ]
  },
  {
   "cell_type": "code",
   "execution_count": 66,
   "metadata": {},
   "outputs": [],
   "source": [
    "y_pred = model.predict(X_val)\n",
    "y_pred_binary = []\n",
    "\n",
    "for value in y_pred:\n",
    "    v = value[0]\n",
    "    if v < 0.5:\n",
    "        y_pred_binary.append(0)\n",
    "    else: \n",
    "        y_pred_binary.append(1)"
   ]
  },
  {
   "cell_type": "code",
   "execution_count": 67,
   "metadata": {},
   "outputs": [
    {
     "data": {
      "image/png": "[encoded data removed]",
      "text/plain": [
       "<Figure size 360x360 with 1 Axes>"
      ]
     },
     "metadata": {
      "needs_background": "light"
     },
     "output_type": "display_data"
    },
    {
     "name": "stdout",
     "output_type": "stream",
     "text": [
      "Precision: [0.79582245 0.61527967]\n",
      "Recall: [0.84385382 0.53562945]\n",
      "F1 Score: [0.81913464 0.57269841]\n",
      "Accuracy: 0.745845921450151\n",
      "\n"
     ]
    }
   ],
   "source": [
    "from src.classifiers.classifier_dummy import DummyClassifier as C\n",
    "clf = C()\n",
    "confusion_matrix = clf.confusion_matrix(y_sub_a_val, y_pred_binary, 2, [\"NOT\", \"OFF\"])\n",
    "clf.plot_confusion_matrix(confusion_matrix)\n",
    "\n",
    "\n",
    "precision = clf.precision(y_sub_a_val, y_pred_binary)\n",
    "recall = clf.recall(y_sub_a_val, y_pred_binary)\n",
    "f1_score = clf.f1_score(y_sub_a_val, y_pred_binary)\n",
    "accuracy = clf.accuracy(y_sub_a_val, y_pred_binary)\n",
    "\n",
    "print(\"Precision: {}\\nRecall: {}\\nF1 Score: {}\\nAccuracy: {}\\n\".format(\n",
    "    precision, \n",
    "    recall, \n",
    "    f1_score, \n",
    "    accuracy,\n",
    "))"
   ]
  },
  {
   "cell_type": "code",
   "execution_count": null,
   "metadata": {},
   "outputs": [],
   "source": []
  },
  {
   "cell_type": "code",
   "execution_count": null,
   "metadata": {},
   "outputs": [],
   "source": []
  },
  {
   "cell_type": "code",
   "execution_count": null,
   "metadata": {},
   "outputs": [],
   "source": []
  },
  {
   "cell_type": "code",
   "execution_count": null,
   "metadata": {},
   "outputs": [],
   "source": []
  },
  {
   "cell_type": "code",
   "execution_count": null,
   "metadata": {},
   "outputs": [],
   "source": []
  },
  {
   "cell_type": "code",
   "execution_count": null,
   "metadata": {},
   "outputs": [],
   "source": []
  },
  {
   "cell_type": "code",
   "execution_count": null,
   "metadata": {},
   "outputs": [],
   "source": []
  },
  {
   "cell_type": "code",
   "execution_count": null,
   "metadata": {},
   "outputs": [],
   "source": []
  },
  {
   "cell_type": "code",
   "execution_count": null,
   "metadata": {},
   "outputs": [],
   "source": []
  },
  {
   "cell_type": "code",
   "execution_count": null,
   "metadata": {},
   "outputs": [],
   "source": []
  },
  {
   "cell_type": "code",
   "execution_count": null,
   "metadata": {},
   "outputs": [],
   "source": []
  },
  {
   "cell_type": "code",
   "execution_count": null,
   "metadata": {},
   "outputs": [],
   "source": []
  },
  {
   "cell_type": "code",
   "execution_count": null,
   "metadata": {},
   "outputs": [],
   "source": []
  },
  {
   "cell_type": "code",
   "execution_count": null,
   "metadata": {},
   "outputs": [],
   "source": []
  },
  {
   "cell_type": "code",
   "execution_count": null,
   "metadata": {},
   "outputs": [],
   "source": []
  },
  {
   "cell_type": "code",
   "execution_count": null,
   "metadata": {},
   "outputs": [],
   "source": []
  },
  {
   "cell_type": "code",
   "execution_count": null,
   "metadata": {},
   "outputs": [],
   "source": []
  },
  {
   "cell_type": "code",
   "execution_count": null,
   "metadata": {},
   "outputs": [],
   "source": []
  },
  {
   "cell_type": "code",
   "execution_count": null,
   "metadata": {},
   "outputs": [],
   "source": []
  },
  {
   "cell_type": "code",
   "execution_count": null,
   "metadata": {},
   "outputs": [],
   "source": []
  },
  {
   "cell_type": "code",
   "execution_count": null,
   "metadata": {},
   "outputs": [],
   "source": []
  },
  {
   "cell_type": "code",
   "execution_count": null,
   "metadata": {},
   "outputs": [],
   "source": []
  },
  {
   "cell_type": "code",
   "execution_count": null,
   "metadata": {},
   "outputs": [],
   "source": []
  },
  {
   "cell_type": "code",
   "execution_count": null,
   "metadata": {},
   "outputs": [],
   "source": []
  },
  {
   "cell_type": "code",
   "execution_count": null,
   "metadata": {},
   "outputs": [],
   "source": []
  },
  {
   "cell_type": "code",
   "execution_count": null,
   "metadata": {},
   "outputs": [],
   "source": []
  },
  {
   "cell_type": "code",
   "execution_count": null,
   "metadata": {},
   "outputs": [],
   "source": []
  },
  {
   "cell_type": "code",
   "execution_count": null,
   "metadata": {},
   "outputs": [],
   "source": []
  },
  {
   "cell_type": "code",
   "execution_count": null,
   "metadata": {},
   "outputs": [],
   "source": []
  },
  {
   "cell_type": "code",
   "execution_count": null,
   "metadata": {},
   "outputs": [],
   "source": []
  },
  {
   "cell_type": "code",
   "execution_count": null,
   "metadata": {},
   "outputs": [],
   "source": []
  },
  {
   "cell_type": "code",
   "execution_count": null,
   "metadata": {},
   "outputs": [],
   "source": []
  },
  {
   "cell_type": "code",
   "execution_count": null,
   "metadata": {},
   "outputs": [],
   "source": []
  },
  {
   "cell_type": "code",
   "execution_count": null,
   "metadata": {},
   "outputs": [],
   "source": []
  },
  {
   "cell_type": "code",
   "execution_count": null,
   "metadata": {},
   "outputs": [],
   "source": []
  },
  {
   "cell_type": "code",
   "execution_count": 2,
   "metadata": {},
   "outputs": [],
   "source": []
  },
  {
   "cell_type": "code",
   "execution_count": null,
   "metadata": {},
   "outputs": [],
   "source": []
  },
  {
   "cell_type": "code",
   "execution_count": null,
   "metadata": {},
   "outputs": [],
   "source": []
  },
  {
   "cell_type": "code",
   "execution_count": null,
   "metadata": {},
   "outputs": [],
   "source": []
  },
  {
   "cell_type": "code",
   "execution_count": null,
   "metadata": {},
   "outputs": [],
   "source": []
  },
  {
   "cell_type": "code",
   "execution_count": null,
   "metadata": {},
   "outputs": [],
   "source": []
  },
  {
   "cell_type": "code",
   "execution_count": null,
   "metadata": {},
   "outputs": [],
   "source": []
  },
  {
   "cell_type": "code",
   "execution_count": null,
   "metadata": {},
   "outputs": [],
   "source": []
  }
 ],
 "metadata": {
  "kernelspec": {
   "display_name": "thesis",
   "language": "python",
   "name": "thesis"
  },
  "language_info": {
   "codemirror_mode": {
    "name": "ipython",
    "version": 3
   },
   "file_extension": ".py",
   "mimetype": "text/x-python",
   "name": "python",
   "nbconvert_exporter": "python",
   "pygments_lexer": "ipython3",
   "version": "3.7.1"
  }
 },
 "nbformat": 4,
 "nbformat_minor": 2
}
