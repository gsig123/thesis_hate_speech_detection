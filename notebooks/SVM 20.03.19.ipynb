{
 "cells": [
  {
   "cell_type": "code",
   "execution_count": 2,
   "metadata": {},
   "outputs": [],
   "source": [
    "import sys \n",
    "sys.path.append(\"..\")\n",
    "\n",
    "from src.feature_extraction.bag_of_words import bag_of_words\n",
    "from src.preprocess.data_prep_offenseval import DataPrepOffensEval"
   ]
  },
  {
   "cell_type": "code",
   "execution_count": 55,
   "metadata": {},
   "outputs": [],
   "source": [
    "# Get the training data\n",
    "english_train_file_path = \"../data/raw/OffensEval2019/start-kit/training-v1/offenseval-training-v1.tsv\"\n",
    "dp = DataPrepOffensEval()\n",
    "result_tuple = dp.get_X_and_ys(file_path=english_train_file_path)\n",
    "X_original = result_tuple[0]\n",
    "y_sub_a = result_tuple[1]"
   ]
  },
  {
   "cell_type": "code",
   "execution_count": 56,
   "metadata": {},
   "outputs": [
    {
     "name": "stdout",
     "output_type": "stream",
     "text": [
      "['@USER She should ask a few native Americans what their take on this is.'\n",
      " '@USER @USER Go home you’re drunk!!! @USER #MAGA #Trump2020 👊🇺🇸👊 URL'\n",
      " 'Amazon is investigating Chinese employees who are selling internal data to third-party sellers looking for an edge in the competitive marketplace. URL #Amazon #MAGA #KAG #CHINA #TCOT'\n",
      " ... \"@USER And why report this garbage.  We don't give a crap.\"\n",
      " '@USER Pussy'\n",
      " '#Spanishrevenge vs. #justice #HumanRights and #FreedomOfExpression #Spain is a  #fakedemocracy @USER @USER @USER @USER @USER @USER @USER @USER @USER @USER @USER @USER @USER @USER @USER #cddr #shameonSpain #WakeupEurope @USER URL']\n"
     ]
    }
   ],
   "source": [
    "print(X_original)"
   ]
  },
  {
   "cell_type": "code",
   "execution_count": 57,
   "metadata": {},
   "outputs": [
    {
     "name": "stdout",
     "output_type": "stream",
     "text": [
      "[1 1 0 ... 1 1 0]\n"
     ]
    }
   ],
   "source": [
    "print(y_sub_a)"
   ]
  },
  {
   "cell_type": "code",
   "execution_count": 59,
   "metadata": {},
   "outputs": [
    {
     "name": "stdout",
     "output_type": "stream",
     "text": [
      "['@USER @USER @USER Please can I have some of whatever it is you’ve been smoking?  Thats some top quality shit you’re coming out with.'\n",
      " \"@USER @USER @USER @USER @USER Liberals Don't Appreciate Your Sarcasm. They Thought You Were On Their Side.\"\n",
      " '@USER @USER @USER 🇺🇸 BECAUSE THey think Sen Collins is A STUPID COWARD   &amp;all they have to do is Bullie   SenCollins  This is what🇺🇸Conservatives Have lives with For 9️⃣yrs now   Please Vote For Kavanaugh  LetGod Take Care Of the Rest'\n",
      " ... '@USER @USER  was spreading #FakeNews about @USER FYI. #MAGA'\n",
      " '@USER Holy shit I love her???'\n",
      " '@USER Sorry to read this. You’re doing the right thing to report it and warn us all about them. Needless to say you are none of the things they say. Stay strong.']\n"
     ]
    }
   ],
   "source": [
    "# Create train, validation and test sets:\n",
    "import pandas as pd\n",
    "X_train, X_test, y_train, y_test = dp.train_test_split(X_original, y_sub_a, test_size=0.2)\n",
    "X_train, X_val, y_train, y_val = dp.train_test_split(X_train, y_train, test_size=0.1)\n",
    "print(X_train)"
   ]
  },
  {
   "cell_type": "code",
   "execution_count": 63,
   "metadata": {},
   "outputs": [],
   "source": [
    "from sklearn.pipeline import Pipeline\n",
    "from sklearn.feature_extraction.text import CountVectorizer\n",
    "from sklearn.feature_extraction.text import TfidfTransformer\n",
    "from nltk.corpus import stopwords\n",
    "from sklearn.naive_bayes import MultinomialNB\n",
    "import string\n",
    "LANG = \"english\"\n",
    "MAX_FEATURES = 2000 # Only take into account the top 2k most frequent words\n",
    "stop_words = list(set(stopwords.words(LANG)))\n",
    "stop_words.extend(list(string.punctuation))\n",
    "text_clf = Pipeline([\n",
    "    ('vect', CountVectorizer(\n",
    "        stop_words=stop_words,\n",
    "        max_df=1.0, \n",
    "        min_df=0.0,\n",
    "        max_features=MAX_FEATURES,\n",
    "    )),\n",
    "    ('tfidf', TfidfTransformer()),\n",
    "    ('clf', MultinomialNB()),\n",
    "])\n",
    "text_clf = text_clf.fit(X_train, y_train)"
   ]
  },
  {
   "cell_type": "code",
   "execution_count": 64,
   "metadata": {},
   "outputs": [
    {
     "data": {
      "text/plain": [
       "0.7594410876132931"
      ]
     },
     "execution_count": 64,
     "metadata": {},
     "output_type": "execute_result"
    }
   ],
   "source": [
    "import numpy as np\n",
    "predicted = text_clf.predict(X_test)\n",
    "np.mean(predicted == y_test)"
   ]
  },
  {
   "cell_type": "code",
   "execution_count": 68,
   "metadata": {},
   "outputs": [
    {
     "name": "stderr",
     "output_type": "stream",
     "text": [
      "/Users/gudbjartursigurbergsson/PythonEnv/thesis/lib/python3.7/site-packages/sklearn/linear_model/stochastic_gradient.py:152: DeprecationWarning: n_iter parameter is deprecated in 0.19 and will be removed in 0.21. Use max_iter and tol instead.\n",
      "  DeprecationWarning)\n"
     ]
    },
    {
     "data": {
      "text/plain": [
       "Pipeline(memory=None,\n",
       "     steps=[('vect', CountVectorizer(analyzer='word', binary=False, decode_error='strict',\n",
       "        dtype=<class 'numpy.int64'>, encoding='utf-8', input='content',\n",
       "        lowercase=True, max_df=1.0, max_features=2000, min_df=0.0,\n",
       "        ngram_range=(1, 1), preprocessor=None,\n",
       "        stop_words=[\"shan't\"...dom_state=42, shuffle=True, tol=None,\n",
       "       validation_fraction=0.1, verbose=0, warm_start=False))])"
      ]
     },
     "execution_count": 68,
     "metadata": {},
     "output_type": "execute_result"
    }
   ],
   "source": [
    "from sklearn.linear_model import SGDClassifier\n",
    "text_clf_svm = Pipeline([\n",
    "    ('vect', CountVectorizer(\n",
    "        stop_words=stop_words,\n",
    "        max_df=1.0, \n",
    "        min_df=0.0,\n",
    "        max_features=MAX_FEATURES,\n",
    "    )),\n",
    "    ('tfidf', TfidfTransformer()),\n",
    "    ('clf-svm', SGDClassifier(\n",
    "        loss='hinge',\n",
    "        penalty='l2',\n",
    "        alpha=1e-3,\n",
    "        n_iter=10,\n",
    "        random_state=42,\n",
    "    )),\n",
    "])\n",
    "\n",
    "text_clf_svm.fit(X_train, y_train)"
   ]
  },
  {
   "cell_type": "code",
   "execution_count": 69,
   "metadata": {},
   "outputs": [
    {
     "data": {
      "text/plain": [
       "0.7262084592145015"
      ]
     },
     "execution_count": 69,
     "metadata": {},
     "output_type": "execute_result"
    }
   ],
   "source": [
    "predicted_svm = text_clf_svm.predict(X_test)\n",
    "np.mean(predicted_svm == y_test)"
   ]
  },
  {
   "cell_type": "code",
   "execution_count": 75,
   "metadata": {},
   "outputs": [],
   "source": [
    "from sklearn.model_selection import GridSearchCV\n",
    "parameters = {'vect__ngram_range': [(1, 1), (1, 2)],\n",
    "               'tfidf__use_idf': (True, False),\n",
    "               'clf-svm__alpha': (1e-2, 1e-3),\n",
    "}"
   ]
  },
  {
   "cell_type": "code",
   "execution_count": 77,
   "metadata": {},
   "outputs": [
    {
     "name": "stderr",
     "output_type": "stream",
     "text": [
      "/Users/gudbjartursigurbergsson/PythonEnv/thesis/lib/python3.7/site-packages/sklearn/model_selection/_split.py:2053: FutureWarning: You should specify a value for 'cv' instead of relying on the default value. The default value will change from 3 to 5 in version 0.22.\n",
      "  warnings.warn(CV_WARNING, FutureWarning)\n",
      "/Users/gudbjartursigurbergsson/PythonEnv/thesis/lib/python3.7/site-packages/sklearn/linear_model/stochastic_gradient.py:152: DeprecationWarning: n_iter parameter is deprecated in 0.19 and will be removed in 0.21. Use max_iter and tol instead.\n",
      "  DeprecationWarning)\n"
     ]
    }
   ],
   "source": [
    "gs_clf = GridSearchCV(text_clf, parameters, n_jobs=-1)\n",
    "gs_clf = gs_clf.fit(X_train, y_train)"
   ]
  },
  {
   "cell_type": "code",
   "execution_count": 78,
   "metadata": {},
   "outputs": [
    {
     "data": {
      "text/plain": [
       "{'clf-svm__alpha': 0.001, 'tfidf__use_idf': True, 'vect__ngram_range': (1, 1)}"
      ]
     },
     "execution_count": 78,
     "metadata": {},
     "output_type": "execute_result"
    }
   ],
   "source": [
    "gs_clf.best_score_\n",
    "gs_clf.best_params_"
   ]
  },
  {
   "cell_type": "code",
   "execution_count": 79,
   "metadata": {},
   "outputs": [
    {
     "data": {
      "text/plain": [
       "0.7265861027190332"
      ]
     },
     "execution_count": 79,
     "metadata": {},
     "output_type": "execute_result"
    }
   ],
   "source": [
    "pred_gs_svm = gs_clf.predict(X_test)\n",
    "np.mean(pred_gs_svm == y_test)"
   ]
  },
  {
   "cell_type": "code",
   "execution_count": 81,
   "metadata": {},
   "outputs": [
    {
     "data": {
      "image/png": "[encoded data removed]",
      "text/plain": [
       "<Figure size 360x360 with 1 Axes>"
      ]
     },
     "metadata": {},
     "output_type": "display_data"
    }
   ],
   "source": [
    "from src.classifiers.classifier_baseline import BaselineClassifier\n",
    "c = BaselineClassifier(1, 1, 1, 1, 1, 1, 1, 1, 1, 'pass', 'test')\n",
    "conf_df = c.confusion_matrix(y_test, pred_gs_svm, 2, [\"NOT\", \"OFF\"])\n",
    "c.plot_confusion_matrix(conf_df)"
   ]
  },
  {
   "cell_type": "code",
   "execution_count": 83,
   "metadata": {},
   "outputs": [
    {
     "data": {
      "image/png": "[encoded data removed]",
      "text/plain": [
       "<Figure size 360x360 with 1 Axes>"
      ]
     },
     "metadata": {},
     "output_type": "display_data"
    }
   ],
   "source": [
    "conf_df = c.confusion_matrix(y_test, predicted_svm, 2, [\"NOT\", \"OFF\"])\n",
    "c.plot_confusion_matrix(conf_df)"
   ]
  },
  {
   "cell_type": "code",
   "execution_count": 84,
   "metadata": {},
   "outputs": [
    {
     "data": {
      "image/png": "[encoded data removed]",
      "text/plain": [
       "<Figure size 360x360 with 1 Axes>"
      ]
     },
     "metadata": {},
     "output_type": "display_data"
    }
   ],
   "source": [
    "conf_df = c.confusion_matrix(y_test, predicted, 2, [\"NOT\", \"OFF\"])\n",
    "c.plot_confusion_matrix(conf_df`)"
   ]
  },
  {
   "cell_type": "code",
   "execution_count": null,
   "metadata": {},
   "outputs": [],
   "source": []
  }
 ],
 "metadata": {
  "kernelspec": {
   "display_name": "thesis",
   "language": "python",
   "name": "thesis"
  },
  "language_info": {
   "codemirror_mode": {
    "name": "ipython",
    "version": 3
   },
   "file_extension": ".py",
   "mimetype": "text/x-python",
   "name": "python",
   "nbconvert_exporter": "python",
   "pygments_lexer": "ipython3",
   "version": "3.7.2"
  }
 },
 "nbformat": 4,
 "nbformat_minor": 2
}
