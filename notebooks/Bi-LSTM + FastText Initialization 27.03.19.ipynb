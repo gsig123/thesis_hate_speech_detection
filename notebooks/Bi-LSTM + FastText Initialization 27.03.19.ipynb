{
 "cells": [
  {
   "cell_type": "code",
   "execution_count": 1,
   "metadata": {},
   "outputs": [],
   "source": [
    "import sys\n",
    "sys.path.append(\"..\")\n",
    "from src.preprocess.data_prep_offenseval import DataPrepOffensEval\n",
    "from src.classifiers.classifier_bi_lstm import BiLstmClassifier\n",
    "from src.utils.stats import get_distribution_from_y\n",
    "import pandas as pd"
   ]
  },
  {
   "cell_type": "code",
   "execution_count": 2,
   "metadata": {},
   "outputs": [],
   "source": [
    "ENGLISH_FILE_PATH = \"../data/raw/OffensEval2019/start-kit/training-v1/offenseval-training-v1.tsv\"\n",
    "def get_X_y():\n",
    "    dp = DataPrepOffensEval()\n",
    "    result_tuple = dp.get_X_and_ys(file_path=ENGLISH_FILE_PATH)\n",
    "    X_original = result_tuple[0]\n",
    "    y_sub_a = result_tuple[1]\n",
    "    return X_original, y_sub_a"
   ]
  },
  {
   "cell_type": "code",
   "execution_count": 3,
   "metadata": {},
   "outputs": [
    {
     "name": "stderr",
     "output_type": "stream",
     "text": [
      "Using TensorFlow backend.\n"
     ]
    }
   ],
   "source": [
    "# Format our text samples and labels into tensors that can be fed into \n",
    "# a NN. To do this, we will rely on Keras utilities\n",
    "from keras.preprocessing.text import Tokenizer\n",
    "from keras.preprocessing.sequence import pad_sequences\n",
    "MAX_NB_WORDS = 20000 # Max number of words in tweet to consider, ranked by frequency\n",
    "MAX_SEQ_LENGTH = 1000 # Lengt of tensors that are fed into NN\n",
    "\n",
    "def tokenize(X, max_nb_words=MAX_NB_WORDS, max_seq_length=MAX_SEQ_LENGTH):\n",
    "    tokenizer = Tokenizer(num_words=max_nb_words)\n",
    "    tokenizer.fit_on_texts(X)\n",
    "    sequences = tokenizer.texts_to_sequences(X)\n",
    "    word_index = tokenizer.word_index # Number of unique tokens\n",
    "    X = pad_sequences(sequences, maxlen=max_seq_length) # PAD Everything to be the same length - necessary for keras\n",
    "    return X, word_index"
   ]
  },
  {
   "cell_type": "code",
   "execution_count": 4,
   "metadata": {},
   "outputs": [],
   "source": [
    "X, y = get_X_y()"
   ]
  },
  {
   "cell_type": "code",
   "execution_count": 5,
   "metadata": {},
   "outputs": [],
   "source": [
    "X, word_index = tokenize(X)"
   ]
  },
  {
   "cell_type": "code",
   "execution_count": 6,
   "metadata": {},
   "outputs": [],
   "source": [
    "dp = DataPrepOffensEval()\n",
    "X_train, X_test, y_train, y_test = dp.train_test_split(X, y, test_size=0.1)\n",
    "X_train, X_val, y_train, y_val = dp.train_test_split(X_train, y_train, test_size=0.1)"
   ]
  },
  {
   "cell_type": "code",
   "execution_count": 7,
   "metadata": {},
   "outputs": [],
   "source": [
    "from gensim.models import KeyedVectors\n",
    "NUM_VECTORS = 50000\n",
    "ENGLISH_EMB_FILE_PATH = \"../cc.en.300.vec\"\n",
    "\n",
    "en_model = KeyedVectors.load_word2vec_format(\n",
    "    ENGLISH_EMB_FILE_PATH,\n",
    "    limit=NUM_VECTORS,\n",
    ")"
   ]
  },
  {
   "cell_type": "code",
   "execution_count": 8,
   "metadata": {},
   "outputs": [],
   "source": [
    "import numpy as np\n",
    "\n",
    "def create_embedding_matrix(model=en_model, X=X, embedding_dim=300, word_index=word_index):\n",
    "    embedding_matrix = np.zeros((len(word_index) + 1, embedding_dim))\n",
    "    for word, i in word_index.items():\n",
    "        if word in model:\n",
    "            embedding_vector = model[word]\n",
    "            embedding_matrix[i] = embedding_vector\n",
    "            # Words not found will be all zeros\n",
    "    return embedding_matrix"
   ]
  },
  {
   "cell_type": "code",
   "execution_count": 9,
   "metadata": {},
   "outputs": [],
   "source": [
    "embedding_matrix = create_embedding_matrix()"
   ]
  },
  {
   "cell_type": "code",
   "execution_count": 10,
   "metadata": {
    "scrolled": true
   },
   "outputs": [],
   "source": [
    "# Create the embedding layer from the embedding matrix for keras\n",
    "from keras.layers import Embedding\n",
    "EMBEDDING_DIM = 300\n",
    "\n",
    "embedding_layer = Embedding(\n",
    "    len(word_index) + 1,\n",
    "    EMBEDDING_DIM,\n",
    "    weights=[embedding_matrix],\n",
    "    input_length=MAX_SEQ_LENGTH,\n",
    "    trainable=False,\n",
    ")"
   ]
  },
  {
   "cell_type": "code",
   "execution_count": 11,
   "metadata": {},
   "outputs": [],
   "source": [
    "from keras.layers import (\n",
    "    Bidirectional, \n",
    "    Dropout, \n",
    "    Dense,\n",
    "    Activation, \n",
    "    LSTM,\n",
    ")\n",
    "\n",
    "from keras import Sequential\n",
    "\n",
    "def create_model(\n",
    "    embedding_layer,\n",
    "    dropout_amount=0.2,\n",
    "    lstm_units=5,\n",
    "    dense_1_units=4,\n",
    "    dense_2_units=1,\n",
    "    dense_1_activation=\"relu\",\n",
    "    dense_2_activation=\"sigmoid\",\n",
    "    optimizer=\"adam\",\n",
    "    loss_func=\"binary_crossentropy\",\n",
    "    metrics=[\"accuracy\"],\n",
    "):\n",
    "    model = Sequential()\n",
    "    model.add(embedding_layer)\n",
    "    model.add(Bidirectional(\n",
    "        layer=LSTM(\n",
    "            units=lstm_units,\n",
    "            dropout=dropout_amount,\n",
    "            recurrent_dropout=dropout_amount,\n",
    "        )\n",
    "    ))\n",
    "    model.add(Dropout(dropout_amount))\n",
    "    model.add(Dense(\n",
    "        units=dense_1_units,\n",
    "    ))\n",
    "    model.add(Activation(dense_1_activation))\n",
    "    model.add(Dropout(dropout_amount))\n",
    "    model.add(Dense(\n",
    "        units=dense_2_units,\n",
    "    ))\n",
    "    model.add(Activation(dense_2_activation))\n",
    "    \n",
    "    model.compile(\n",
    "        optimizer=optimizer,\n",
    "        loss=loss_func,\n",
    "        metrics=metrics,\n",
    "    )\n",
    "    \n",
    "    return model\n",
    "\n",
    "# Early stopping when the model starts to overfit\n",
    "from keras.callbacks import EarlyStopping, ModelCheckpoint\n",
    "# Patience is the nummber of epochs\n",
    "es = EarlyStopping(monitor='val_loss', verbose=1, patience=5)\n",
    "mc = ModelCheckpoint('best_model.h5', monitor='val_loss', verbose=1, save_best_only=True)\n",
    "\n",
    "def train_model(\n",
    "    model,\n",
    "    X_train=X_train,\n",
    "    y_train=y_train,\n",
    "    epochs=20,\n",
    "    batch_size=512,\n",
    "    validation_data=[X_val,y_val],\n",
    "):\n",
    "    history = model.fit(\n",
    "        X_train,\n",
    "        y_train,\n",
    "        epochs=epochs,\n",
    "        batch_size=batch_size,\n",
    "        validation_data=validation_data,\n",
    "        verbose=2,\n",
    "        callbacks=[es, mc],\n",
    "    )\n",
    "    return history\n",
    "\n",
    "import matplotlib.pyplot as plt\n",
    "\n",
    "\n",
    "def plot_train_val_loss(history):\n",
    "    plt.clf()\n",
    "    history_dict = history.history\n",
    "    train_loss = history_dict['loss']\n",
    "    val_loss = history_dict['val_loss']\n",
    "    epochs = range(1, len(train_loss) + 1)\n",
    "    plt.plot(epochs, train_loss, 'r', label='Training Loss')\n",
    "    plt.plot(epochs, val_loss, 'b', label='Validation Loss')\n",
    "    plt.title('Training and Validation Loss')\n",
    "    plt.xlabel('Epochs')\n",
    "    plt.ylabel('Loss')\n",
    "    plt.legend()\n",
    "    \n",
    "    \n",
    "def plot_train_val_accuracy(history):\n",
    "    plt.clf()\n",
    "    history_dict = history.history\n",
    "    train_metric = history_dict['acc']\n",
    "    val_metric = history_dict['val_' + 'acc']\n",
    "    epochs = range(1, len(train_metric) + 1)\n",
    "    plt.plot(epochs, train_metric, 'r', label='Training {}'.format('acc'))\n",
    "    plt.plot(epochs, val_metric, 'b', label='Validation {}'.format('acc'))\n",
    "    plt.title('Training and Validation {}'.format('acc'))\n",
    "    plt.xlabel('Epochs')\n",
    "    plt.ylabel('{}'.format('acc'))\n",
    "    plt.legend()\n",
    "\n",
    "    \n",
    "def predict_y(model, X_test=X_test):\n",
    "    y_pred = model.predict(X_test)\n",
    "    y_pred_binary = [0 if value[0] < 0.5 else 1 for value in y_pred]\n",
    "    return y_pred_binary\n",
    "\n",
    "\n",
    "# Using this since we have the confusion matrix stuff implemented here\n",
    "# Move that stuff into a unique module\n",
    "from src.classifiers.classifier_bi_lstm import BiLstmClassifier\n",
    "\n",
    "\n",
    "def plot_confusion_matrix(\n",
    "    y_test,\n",
    "    y_pred,\n",
    "    num_categories=2,\n",
    "    category_names=[\"NOT\", \"OFF\"],\n",
    "):\n",
    "    classifier = BiLstmClassifier(\n",
    "        embedding_input_dim=1,\n",
    "        logfile=None,\n",
    "        epochs=1,\n",
    "    )\n",
    "    confusion_df = classifier.confusion_matrix(\n",
    "        y_test, y_pred, num_categories, category_names,\n",
    "    )\n",
    "    classifier.plot_confusion_matrix(\n",
    "        confusion_df, file_path=None,\n",
    "    )\n"
   ]
  },
  {
   "cell_type": "code",
   "execution_count": 12,
   "metadata": {},
   "outputs": [
    {
     "name": "stdout",
     "output_type": "stream",
     "text": [
      "WARNING:tensorflow:From /Users/gudbjartursigurbergsson/PythonEnv/thesis/lib/python3.7/site-packages/tensorflow/python/framework/op_def_library.py:263: colocate_with (from tensorflow.python.framework.ops) is deprecated and will be removed in a future version.\n",
      "Instructions for updating:\n",
      "Colocations handled automatically by placer.\n",
      "WARNING:tensorflow:From /Users/gudbjartursigurbergsson/PythonEnv/thesis/lib/python3.7/site-packages/keras/backend/tensorflow_backend.py:3445: calling dropout (from tensorflow.python.ops.nn_ops) with keep_prob is deprecated and will be removed in a future version.\n",
      "Instructions for updating:\n",
      "Please use `rate` instead of `keep_prob`. Rate should be set to `rate = 1 - keep_prob`.\n"
     ]
    }
   ],
   "source": [
    "model = create_model(embedding_layer)"
   ]
  },
  {
   "cell_type": "code",
   "execution_count": 13,
   "metadata": {},
   "outputs": [
    {
     "name": "stdout",
     "output_type": "stream",
     "text": [
      "WARNING:tensorflow:From /Users/gudbjartursigurbergsson/PythonEnv/thesis/lib/python3.7/site-packages/tensorflow/python/ops/math_ops.py:3066: to_int32 (from tensorflow.python.ops.math_ops) is deprecated and will be removed in a future version.\n",
      "Instructions for updating:\n",
      "Use tf.cast instead.\n",
      "Train on 10724 samples, validate on 1192 samples\n",
      "Epoch 1/20\n",
      " - 101s - loss: 0.6934 - acc: 0.5597 - val_loss: 0.6903 - val_acc: 0.6418\n",
      "\n",
      "Epoch 00001: val_loss improved from inf to 0.69028, saving model to best_model.h5\n",
      "Epoch 2/20\n",
      " - 94s - loss: 0.6882 - acc: 0.6682 - val_loss: 0.6874 - val_acc: 0.6435\n",
      "\n",
      "Epoch 00002: val_loss improved from 0.69028 to 0.68739, saving model to best_model.h5\n",
      "Epoch 3/20\n",
      " - 95s - loss: 0.6848 - acc: 0.6706 - val_loss: 0.6846 - val_acc: 0.6443\n",
      "\n",
      "Epoch 00003: val_loss improved from 0.68739 to 0.68459, saving model to best_model.h5\n",
      "Epoch 4/20\n",
      " - 98s - loss: 0.6814 - acc: 0.6744 - val_loss: 0.6815 - val_acc: 0.6477\n",
      "\n",
      "Epoch 00004: val_loss improved from 0.68459 to 0.68153, saving model to best_model.h5\n",
      "Epoch 5/20\n",
      " - 99s - loss: 0.6779 - acc: 0.6792 - val_loss: 0.6781 - val_acc: 0.6611\n",
      "\n",
      "Epoch 00005: val_loss improved from 0.68153 to 0.67811, saving model to best_model.h5\n",
      "Epoch 6/20\n",
      " - 110s - loss: 0.6735 - acc: 0.6894 - val_loss: 0.6737 - val_acc: 0.6737\n",
      "\n",
      "Epoch 00006: val_loss improved from 0.67811 to 0.67374, saving model to best_model.h5\n",
      "Epoch 7/20\n",
      " - 100s - loss: 0.6676 - acc: 0.7007 - val_loss: 0.6671 - val_acc: 0.6854\n",
      "\n",
      "Epoch 00007: val_loss improved from 0.67374 to 0.66708, saving model to best_model.h5\n",
      "Epoch 8/20\n",
      " - 95s - loss: 0.6615 - acc: 0.7114 - val_loss: 0.6585 - val_acc: 0.7072\n",
      "\n",
      "Epoch 00008: val_loss improved from 0.66708 to 0.65851, saving model to best_model.h5\n",
      "Epoch 9/20\n",
      " - 97s - loss: 0.6533 - acc: 0.7233 - val_loss: 0.6494 - val_acc: 0.7206\n",
      "\n",
      "Epoch 00009: val_loss improved from 0.65851 to 0.64939, saving model to best_model.h5\n",
      "Epoch 10/20\n",
      " - 100s - loss: 0.6449 - acc: 0.7296 - val_loss: 0.6423 - val_acc: 0.7232\n",
      "\n",
      "Epoch 00010: val_loss improved from 0.64939 to 0.64233, saving model to best_model.h5\n",
      "Epoch 11/20\n",
      " - 101s - loss: 0.6386 - acc: 0.7387 - val_loss: 0.6338 - val_acc: 0.7357\n",
      "\n",
      "Epoch 00011: val_loss improved from 0.64233 to 0.63376, saving model to best_model.h5\n",
      "Epoch 12/20\n",
      " - 99s - loss: 0.6356 - acc: 0.7383 - val_loss: 0.6328 - val_acc: 0.7257\n",
      "\n",
      "Epoch 00012: val_loss improved from 0.63376 to 0.63284, saving model to best_model.h5\n",
      "Epoch 13/20\n",
      " - 100s - loss: 0.6288 - acc: 0.7439 - val_loss: 0.6232 - val_acc: 0.7383\n",
      "\n",
      "Epoch 00013: val_loss improved from 0.63284 to 0.62318, saving model to best_model.h5\n",
      "Epoch 14/20\n",
      " - 101s - loss: 0.6239 - acc: 0.7469 - val_loss: 0.6158 - val_acc: 0.7483\n",
      "\n",
      "Epoch 00014: val_loss improved from 0.62318 to 0.61584, saving model to best_model.h5\n",
      "Epoch 15/20\n",
      " - 101s - loss: 0.6194 - acc: 0.7434 - val_loss: 0.6166 - val_acc: 0.7341\n",
      "\n",
      "Epoch 00015: val_loss did not improve from 0.61584\n",
      "Epoch 16/20\n",
      " - 96s - loss: 0.6150 - acc: 0.7493 - val_loss: 0.6192 - val_acc: 0.7240\n",
      "\n",
      "Epoch 00016: val_loss did not improve from 0.61584\n",
      "Epoch 17/20\n",
      " - 95s - loss: 0.6113 - acc: 0.7464 - val_loss: 0.6087 - val_acc: 0.7458\n",
      "\n",
      "Epoch 00017: val_loss improved from 0.61584 to 0.60875, saving model to best_model.h5\n",
      "Epoch 18/20\n",
      " - 97s - loss: 0.6084 - acc: 0.7495 - val_loss: 0.6085 - val_acc: 0.7383\n",
      "\n",
      "Epoch 00018: val_loss improved from 0.60875 to 0.60849, saving model to best_model.h5\n",
      "Epoch 19/20\n",
      " - 101s - loss: 0.6021 - acc: 0.7546 - val_loss: 0.6069 - val_acc: 0.7324\n",
      "\n",
      "Epoch 00019: val_loss improved from 0.60849 to 0.60689, saving model to best_model.h5\n",
      "Epoch 20/20\n",
      " - 97s - loss: 0.5966 - acc: 0.7581 - val_loss: 0.5969 - val_acc: 0.7517\n",
      "\n",
      "Epoch 00020: val_loss improved from 0.60689 to 0.59695, saving model to best_model.h5\n"
     ]
    }
   ],
   "source": [
    "history = train_model(model)"
   ]
  },
  {
   "cell_type": "code",
   "execution_count": 14,
   "metadata": {},
   "outputs": [
    {
     "data": {
      "image/png": "[encoded data removed]",
      "text/plain": [
       "<Figure size 432x288 with 1 Axes>"
      ]
     },
     "metadata": {},
     "output_type": "display_data"
    }
   ],
   "source": [
    "plot_train_val_loss(history)"
   ]
  },
  {
   "cell_type": "code",
   "execution_count": 15,
   "metadata": {},
   "outputs": [
    {
     "data": {
      "image/png": "[encoded data removed]",
      "text/plain": [
       "<Figure size 432x288 with 1 Axes>"
      ]
     },
     "metadata": {},
     "output_type": "display_data"
    }
   ],
   "source": [
    "plot_train_val_accuracy(history)"
   ]
  },
  {
   "cell_type": "code",
   "execution_count": 16,
   "metadata": {},
   "outputs": [],
   "source": [
    "y_pred = predict_y(model)"
   ]
  },
  {
   "cell_type": "code",
   "execution_count": 17,
   "metadata": {},
   "outputs": [
    {
     "name": "stderr",
     "output_type": "stream",
     "text": [
      "29/03/19 10:18:59 [INFO] Initialized Classifier: Bi-LSTM Based Model\n",
      "29/03/19 10:18:59 [INFO] LSTM Layers: 50\n",
      "29/03/19 10:18:59 [INFO] Embedding Input Dimension: 1\n",
      "29/03/19 10:18:59 [INFO] Embedding Output Dimension: 100\n",
      "29/03/19 10:18:59 [INFO] MLP Layers: 16\n",
      "29/03/19 10:18:59 [INFO] MLP Activation: <function relu at 0x131964f28>\n",
      "29/03/19 10:18:59 [INFO] Dropout 1: 0.5\n",
      "29/03/19 10:18:59 [INFO] Dropout 2: 0.5\n",
      "29/03/19 10:18:59 [INFO] Dropout 3: 0.5\n",
      "29/03/19 10:18:59 [INFO] Output Activation: <function sigmoid at 0x1319e7510>\n",
      "29/03/19 10:18:59 [INFO] Epochs: 1\n",
      "29/03/19 10:18:59 [INFO] Batch Size: 512\n",
      "29/03/19 10:18:59 [INFO] Optimizer: adam\n",
      "29/03/19 10:18:59 [INFO] Loss Function: binary_crossentropy\n",
      "29/03/19 10:18:59 [INFO] Metrics: ['accuracy']\n"
     ]
    },
    {
     "data": {
      "image/png": "[encoded data removed]",
      "text/plain": [
       "<Figure size 360x360 with 1 Axes>"
      ]
     },
     "metadata": {},
     "output_type": "display_data"
    }
   ],
   "source": [
    "plot_confusion_matrix(y_test, y_pred)"
   ]
  },
  {
   "cell_type": "markdown",
   "metadata": {},
   "source": [
    "# Test out oversampling\n",
    "[Based on this article](https://towardsdatascience.com/machine-learning-multiclass-classification-with-imbalanced-data-set-29f6a177c1a)"
   ]
  },
  {
   "cell_type": "code",
   "execution_count": 18,
   "metadata": {},
   "outputs": [],
   "source": [
    "from imblearn.over_sampling import SMOTE\n",
    "smote = SMOTE('minority')\n",
    "X_sm, y_sm = smote.fit_sample(X_train, y_train)"
   ]
  },
  {
   "cell_type": "code",
   "execution_count": 20,
   "metadata": {},
   "outputs": [
    {
     "name": "stdout",
     "output_type": "stream",
     "text": [
      "(14340, 1000) (14340,)\n"
     ]
    }
   ],
   "source": [
    "print(X_sm.shape, y_sm.shape)"
   ]
  },
  {
   "cell_type": "code",
   "execution_count": 21,
   "metadata": {},
   "outputs": [
    {
     "name": "stdout",
     "output_type": "stream",
     "text": [
      "Train on 14340 samples, validate on 1192 samples\n",
      "Epoch 1/20\n",
      " - 130s - loss: 0.6913 - acc: 0.5239 - val_loss: 0.6890 - val_acc: 0.5227\n",
      "\n",
      "Epoch 00001: val_loss did not improve from 0.59695\n",
      "Epoch 2/20\n",
      " - 129s - loss: 0.6801 - acc: 0.5715 - val_loss: 0.6733 - val_acc: 0.5847\n",
      "\n",
      "Epoch 00002: val_loss did not improve from 0.59695\n",
      "Epoch 3/20\n",
      " - 125s - loss: 0.6610 - acc: 0.6051 - val_loss: 0.6620 - val_acc: 0.6149\n",
      "\n",
      "Epoch 00003: val_loss did not improve from 0.59695\n",
      "Epoch 4/20\n",
      " - 127s - loss: 0.6536 - acc: 0.6056 - val_loss: 0.6446 - val_acc: 0.6326\n",
      "\n",
      "Epoch 00004: val_loss did not improve from 0.59695\n",
      "Epoch 5/20\n",
      " - 119s - loss: 0.6474 - acc: 0.6188 - val_loss: 0.6399 - val_acc: 0.6544\n",
      "\n",
      "Epoch 00005: val_loss did not improve from 0.59695\n",
      "Epoch 6/20\n",
      " - 117s - loss: 0.6408 - acc: 0.6234 - val_loss: 0.6409 - val_acc: 0.6602\n",
      "\n",
      "Epoch 00006: val_loss did not improve from 0.59695\n",
      "Epoch 7/20\n",
      " - 117s - loss: 0.6345 - acc: 0.6453 - val_loss: 0.6312 - val_acc: 0.6720\n",
      "\n",
      "Epoch 00007: val_loss did not improve from 0.59695\n",
      "Epoch 8/20\n",
      " - 118s - loss: 0.6339 - acc: 0.6497 - val_loss: 0.6256 - val_acc: 0.6846\n",
      "\n",
      "Epoch 00008: val_loss did not improve from 0.59695\n",
      "Epoch 9/20\n",
      " - 117s - loss: 0.6303 - acc: 0.6479 - val_loss: 0.6239 - val_acc: 0.6720\n",
      "\n",
      "Epoch 00009: val_loss did not improve from 0.59695\n",
      "Epoch 10/20\n",
      " - 117s - loss: 0.6276 - acc: 0.6544 - val_loss: 0.6158 - val_acc: 0.6862\n",
      "\n",
      "Epoch 00010: val_loss did not improve from 0.59695\n",
      "Epoch 11/20\n",
      " - 117s - loss: 0.6192 - acc: 0.6601 - val_loss: 0.6092 - val_acc: 0.6904\n",
      "\n",
      "Epoch 00011: val_loss did not improve from 0.59695\n",
      "Epoch 12/20\n",
      " - 443s - loss: 0.6168 - acc: 0.6692 - val_loss: 0.6154 - val_acc: 0.6896\n",
      "\n",
      "Epoch 00012: val_loss did not improve from 0.59695\n",
      "Epoch 13/20\n",
      " - 119s - loss: 0.6193 - acc: 0.6647 - val_loss: 0.6066 - val_acc: 0.6955\n",
      "\n",
      "Epoch 00013: val_loss did not improve from 0.59695\n",
      "Epoch 14/20\n",
      " - 118s - loss: 0.6165 - acc: 0.6670 - val_loss: 0.5960 - val_acc: 0.7022\n",
      "\n",
      "Epoch 00014: val_loss improved from 0.59695 to 0.59604, saving model to best_model.h5\n",
      "Epoch 15/20\n",
      " - 118s - loss: 0.6110 - acc: 0.6713 - val_loss: 0.5902 - val_acc: 0.7131\n",
      "\n",
      "Epoch 00015: val_loss improved from 0.59604 to 0.59024, saving model to best_model.h5\n",
      "Epoch 16/20\n",
      " - 118s - loss: 0.6109 - acc: 0.6710 - val_loss: 0.5992 - val_acc: 0.7013\n",
      "\n",
      "Epoch 00016: val_loss did not improve from 0.59024\n",
      "Epoch 17/20\n",
      " - 118s - loss: 0.6070 - acc: 0.6758 - val_loss: 0.5938 - val_acc: 0.7047\n",
      "\n",
      "Epoch 00017: val_loss did not improve from 0.59024\n",
      "Epoch 18/20\n",
      " - 117s - loss: 0.6057 - acc: 0.6780 - val_loss: 0.5897 - val_acc: 0.7106\n",
      "\n",
      "Epoch 00018: val_loss improved from 0.59024 to 0.58973, saving model to best_model.h5\n",
      "Epoch 19/20\n",
      " - 115s - loss: 0.6026 - acc: 0.6803 - val_loss: 0.5896 - val_acc: 0.7156\n",
      "\n",
      "Epoch 00019: val_loss improved from 0.58973 to 0.58955, saving model to best_model.h5\n",
      "Epoch 20/20\n",
      " - 115s - loss: 0.5996 - acc: 0.6754 - val_loss: 0.5893 - val_acc: 0.7122\n",
      "\n",
      "Epoch 00020: val_loss improved from 0.58955 to 0.58929, saving model to best_model.h5\n"
     ]
    }
   ],
   "source": [
    "model_over_sampl = create_model(embedding_layer=embedding_layer)\n",
    "history_over_sampl = train_model(X_train=X_sm, y_train=y_sm, model=model_over_sampl)"
   ]
  },
  {
   "cell_type": "code",
   "execution_count": 1,
   "metadata": {},
   "outputs": [
    {
     "ename": "NameError",
     "evalue": "name 'plot_train_val_loss' is not defined",
     "output_type": "error",
     "traceback": [
      "\u001b[0;31m---------------------------------------------------------------------------\u001b[0m",
      "\u001b[0;31mNameError\u001b[0m                                 Traceback (most recent call last)",
      "\u001b[0;32m<ipython-input-1-660909a44c77>\u001b[0m in \u001b[0;36m<module>\u001b[0;34m()\u001b[0m\n\u001b[0;32m----> 1\u001b[0;31m \u001b[0mplot_train_val_loss\u001b[0m\u001b[0;34m(\u001b[0m\u001b[0mhistory\u001b[0m\u001b[0;34m)\u001b[0m\u001b[0;34m\u001b[0m\u001b[0;34m\u001b[0m\u001b[0m\n\u001b[0m",
      "\u001b[0;31mNameError\u001b[0m: name 'plot_train_val_loss' is not defined"
     ]
    }
   ],
   "source": [
    "plot_train_val_loss(history)"
   ]
  },
  {
   "cell_type": "code",
   "execution_count": null,
   "metadata": {},
   "outputs": [],
   "source": [
    "plot_train_val_accuracy(history)"
   ]
  },
  {
   "cell_type": "code",
   "execution_count": null,
   "metadata": {},
   "outputs": [],
   "source": [
    "y_pred = predict_y(model)"
   ]
  },
  {
   "cell_type": "code",
   "execution_count": null,
   "metadata": {},
   "outputs": [],
   "source": [
    "plot_confusion_matrix(y_test, y_pred)"
   ]
  }
 ],
 "metadata": {
  "kernelspec": {
   "display_name": "thesis",
   "language": "python",
   "name": "thesis"
  },
  "language_info": {
   "codemirror_mode": {
    "name": "ipython",
    "version": 3
   },
   "file_extension": ".py",
   "mimetype": "text/x-python",
   "name": "python",
   "nbconvert_exporter": "python",
   "pygments_lexer": "ipython3",
   "version": "3.7.3"
  }
 },
 "nbformat": 4,
 "nbformat_minor": 2
}
